{
 "cells": [
  {
   "cell_type": "code",
   "execution_count": 1,
   "metadata": {},
   "outputs": [],
   "source": [
    "from sklearn.metrics import root_mean_squared_error\n",
    "import pandas as pd\n",
    "import time\n",
    "\n",
    "from auxfunctions import *\n",
    "from implementations import *\n",
    "\n",
    "import warnings\n",
    "warnings.filterwarnings('ignore')"
   ]
  },
  {
   "cell_type": "markdown",
   "metadata": {},
   "source": [
    "Data"
   ]
  },
  {
   "cell_type": "code",
   "execution_count": 2,
   "metadata": {},
   "outputs": [],
   "source": [
    "data  = pd.read_csv('data.txt', sep=' ')\n",
    "index = pd.read_csv('index.txt', sep=' ')['x'].values - 1 # R index to Python index"
   ]
  },
  {
   "cell_type": "code",
   "execution_count": 3,
   "metadata": {},
   "outputs": [],
   "source": [
    "X_1 = np.delete(data[['x', 'y']].values, index, axis=0)\n",
    "Y_1 = np.delete(data['var1'].values, index, axis=0)\n",
    "\n",
    "X_test = data.loc[index, ['x', 'y']].values\n",
    "Y_test = data.loc[index, 'var1'].values\n",
    "\n",
    "X_2 = data[['x', 'y']].values\n",
    "Y_2 = data['var2'].values"
   ]
  },
  {
   "cell_type": "markdown",
   "metadata": {},
   "source": [
    "Values for $m$"
   ]
  },
  {
   "cell_type": "code",
   "execution_count": 4,
   "metadata": {},
   "outputs": [],
   "source": [
    "ms = [75, 125, 175]\n",
    "\n",
    "summary = [] # (sym, nu, m, time_gen_blocks, time_predict, rmse)\n",
    "predictions = pd.DataFrame() # columns: f'{sym}_{nu}_{m}'\n",
    "predictions['Y_true'] = Y_test"
   ]
  },
  {
   "cell_type": "markdown",
   "metadata": {},
   "source": [
    "# Symmetric $\\nu=1/2$"
   ]
  },
  {
   "cell_type": "code",
   "execution_count": 5,
   "metadata": {},
   "outputs": [],
   "source": [
    "sym = True\n",
    "nu_1 = nu_2 = 1/2\n",
    "\n",
    "sigma_1 = np.sqrt(2.601)\n",
    "sigma_2 = np.sqrt(0.816)\n",
    "\n",
    "theta_1 = 3.607e-4\n",
    "theta_2 = 3.192e-4\n",
    "\n",
    "rho_12  = 0.705\n",
    "\n",
    "a = 0"
   ]
  },
  {
   "cell_type": "code",
   "execution_count": 6,
   "metadata": {},
   "outputs": [],
   "source": [
    "nu_12 = ( nu_1 + nu_2 ) / 2\n",
    "theta_12 = min(theta_1, theta_2)"
   ]
  },
  {
   "cell_type": "code",
   "execution_count": 7,
   "metadata": {},
   "outputs": [],
   "source": [
    "for m in ms:\n",
    "    NcoK = NestedCoKriging(X_1, X_2, Y_1, Y_2, matern_model, theta_1, theta_2, theta_12, \n",
    "                           nu_1, nu_2, nu_12, rho_12, a, sigma_1, sigma_2)\n",
    "    \n",
    "    start_time = time.time()\n",
    "    A_1, A_2 = gen_As(X_1, X_2, m, random_state=42)\n",
    "    end_time = time.time()\n",
    "    time_gen_As = end_time-start_time\n",
    "\n",
    "    start_time = time.time()    \n",
    "    Y_pred = NcoK.predict(X_test, A_1, A_2)\n",
    "    end_time = time.time()\n",
    "    time_predict = end_time-start_time\n",
    "    \n",
    "    rmse = root_mean_squared_error(Y_test, Y_pred)\n",
    "\n",
    "    summary.append([sym, nu_1, m, time_gen_As, time_predict, rmse])\n",
    "    predictions[f'{sym}_{nu_1}_{m}'] = Y_pred"
   ]
  },
  {
   "cell_type": "markdown",
   "metadata": {},
   "source": [
    "# Asymmetric $\\nu=1/2$"
   ]
  },
  {
   "cell_type": "code",
   "execution_count": 8,
   "metadata": {},
   "outputs": [],
   "source": [
    "sym = False\n",
    "nu_1 = nu_2 = 1/2\n",
    "\n",
    "sigma_1 = np.sqrt(2.602)\n",
    "sigma_2 = np.sqrt(0.816)\n",
    "\n",
    "theta_1 = 3.606e-4\n",
    "theta_2 = 3.206e-4\n",
    "\n",
    "rho_12  = 0.721\n",
    "\n",
    "a = np.array([-303.7, -137.6])"
   ]
  },
  {
   "cell_type": "code",
   "execution_count": 9,
   "metadata": {},
   "outputs": [],
   "source": [
    "nu_12 = ( nu_1 + nu_2 ) / 2\n",
    "theta_12 = min(theta_1, theta_2)"
   ]
  },
  {
   "cell_type": "code",
   "execution_count": 10,
   "metadata": {},
   "outputs": [],
   "source": [
    "for m in ms:\n",
    "    NcoK = NestedCoKriging(X_1, X_2, Y_1, Y_2, matern_model, theta_1, theta_2, theta_12, \n",
    "                           nu_1, nu_2, nu_12, rho_12, a, sigma_1, sigma_2)\n",
    "    \n",
    "    start_time = time.time()\n",
    "    A_1, A_2 = gen_As(X_1, X_2, m, random_state=42)\n",
    "    end_time = time.time()\n",
    "    time_gen_As = end_time-start_time\n",
    "\n",
    "    start_time = time.time()    \n",
    "    Y_pred = NcoK.predict(X_test, A_1, A_2)\n",
    "    end_time = time.time()\n",
    "    time_predict = end_time-start_time\n",
    "    \n",
    "    rmse = root_mean_squared_error(Y_test, Y_pred)\n",
    "\n",
    "    summary.append([sym, nu_1, m, time_gen_As, time_predict, rmse])\n",
    "    predictions[f'{sym}_{nu_1}_{m}'] = Y_pred"
   ]
  },
  {
   "cell_type": "markdown",
   "metadata": {},
   "source": [
    "# Symmetric $\\nu=3/2$"
   ]
  },
  {
   "cell_type": "code",
   "execution_count": 11,
   "metadata": {},
   "outputs": [],
   "source": [
    "sym = True\n",
    "nu_1 = nu_2 = 3/2\n",
    "\n",
    "sigma_1 = np.sqrt(2.590)\n",
    "sigma_2 = np.sqrt(0.816)\n",
    "\n",
    "theta_1 = 1.415e-3\n",
    "theta_2 = 1.278e-3\n",
    "\n",
    "rho_12  = 0.708\n",
    "\n",
    "a = 0"
   ]
  },
  {
   "cell_type": "code",
   "execution_count": 12,
   "metadata": {},
   "outputs": [],
   "source": [
    "nu_12 = ( nu_1 + nu_2 ) / 2\n",
    "theta_12 = min(theta_1, theta_2)"
   ]
  },
  {
   "cell_type": "code",
   "execution_count": 13,
   "metadata": {},
   "outputs": [],
   "source": [
    "for m in ms:\n",
    "    NcoK = NestedCoKriging(X_1, X_2, Y_1, Y_2, matern_model, theta_1, theta_2, theta_12, \n",
    "                           nu_1, nu_2, nu_12, rho_12, a, sigma_1, sigma_2)\n",
    "    \n",
    "    start_time = time.time()\n",
    "    A_1, A_2 = gen_As(X_1, X_2, m, random_state=42)\n",
    "    end_time = time.time()\n",
    "    time_gen_As = end_time-start_time\n",
    "\n",
    "    start_time = time.time()    \n",
    "    Y_pred = NcoK.predict(X_test, A_1, A_2)\n",
    "    end_time = time.time()\n",
    "    time_predict = end_time-start_time\n",
    "    \n",
    "    rmse = root_mean_squared_error(Y_test, Y_pred)\n",
    "\n",
    "    summary.append([sym, nu_1, m, time_gen_As, time_predict, rmse])\n",
    "    predictions[f'{sym}_{nu_1}_{m}'] = Y_pred"
   ]
  },
  {
   "cell_type": "markdown",
   "metadata": {},
   "source": [
    "# Asymmetric $\\nu=3/2$"
   ]
  },
  {
   "cell_type": "code",
   "execution_count": 14,
   "metadata": {},
   "outputs": [],
   "source": [
    "sym = False\n",
    "nu_1 = nu_2 = 3/2\n",
    "\n",
    "sigma_1 = np.sqrt(2.608)\n",
    "sigma_2 = np.sqrt(0.824)\n",
    "\n",
    "theta_1 = 1.395e-3\n",
    "theta_2 = 1.216e-3\n",
    "\n",
    "rho_12  = 0.714\n",
    "\n",
    "a = np.array([-25.92, -635.2])"
   ]
  },
  {
   "cell_type": "code",
   "execution_count": 15,
   "metadata": {},
   "outputs": [],
   "source": [
    "nu_12 = ( nu_1 + nu_2 ) / 2\n",
    "theta_12 = min(theta_1, theta_2)"
   ]
  },
  {
   "cell_type": "code",
   "execution_count": 16,
   "metadata": {},
   "outputs": [],
   "source": [
    "for m in ms:\n",
    "    NcoK = NestedCoKriging(X_1, X_2, Y_1, Y_2, matern_model, theta_1, theta_2, theta_12, \n",
    "                           nu_1, nu_2, nu_12, rho_12, a, sigma_1, sigma_2)\n",
    "    \n",
    "    start_time = time.time()\n",
    "    A_1, A_2 = gen_As(X_1, X_2, m, random_state=42)\n",
    "    end_time = time.time()\n",
    "    time_gen_As = end_time-start_time\n",
    "\n",
    "    start_time = time.time()    \n",
    "    Y_pred = NcoK.predict(X_test, A_1, A_2)\n",
    "    end_time = time.time()\n",
    "    time_predict = end_time-start_time\n",
    "    \n",
    "    rmse = root_mean_squared_error(Y_test, Y_pred)\n",
    "\n",
    "    summary.append([sym, nu_1, m, time_gen_As, time_predict, rmse])\n",
    "    predictions[f'{sym}_{nu_1}_{m}'] = Y_pred"
   ]
  },
  {
   "cell_type": "markdown",
   "metadata": {},
   "source": [
    "# Save results"
   ]
  },
  {
   "cell_type": "code",
   "execution_count": 17,
   "metadata": {},
   "outputs": [],
   "source": [
    "summary = pd.DataFrame(summary, columns=['sym', 'nu', 'm', 'time_gen_blocks', 'time_predict', 'rmse'])"
   ]
  },
  {
   "cell_type": "code",
   "execution_count": 18,
   "metadata": {},
   "outputs": [],
   "source": [
    "summary.to_csv('results_application_summary.csv', index=False, sep=';')"
   ]
  },
  {
   "cell_type": "code",
   "execution_count": 19,
   "metadata": {},
   "outputs": [],
   "source": [
    "predictions.to_csv('results_application_predictions.csv', index=False, sep=';')"
   ]
  },
  {
   "cell_type": "code",
   "execution_count": 21,
   "metadata": {},
   "outputs": [
    {
     "data": {
      "text/html": [
       "<div>\n",
       "<style scoped>\n",
       "    .dataframe tbody tr th:only-of-type {\n",
       "        vertical-align: middle;\n",
       "    }\n",
       "\n",
       "    .dataframe tbody tr th {\n",
       "        vertical-align: top;\n",
       "    }\n",
       "\n",
       "    .dataframe thead th {\n",
       "        text-align: right;\n",
       "    }\n",
       "</style>\n",
       "<table border=\"1\" class=\"dataframe\">\n",
       "  <thead>\n",
       "    <tr style=\"text-align: right;\">\n",
       "      <th></th>\n",
       "      <th>sym</th>\n",
       "      <th>nu</th>\n",
       "      <th>m</th>\n",
       "      <th>time_gen_blocks</th>\n",
       "      <th>time_predict</th>\n",
       "      <th>rmse</th>\n",
       "    </tr>\n",
       "  </thead>\n",
       "  <tbody>\n",
       "    <tr>\n",
       "      <th>9</th>\n",
       "      <td>False</td>\n",
       "      <td>1.5</td>\n",
       "      <td>75</td>\n",
       "      <td>0.094779</td>\n",
       "      <td>3218.469278</td>\n",
       "      <td>0.015598</td>\n",
       "    </tr>\n",
       "    <tr>\n",
       "      <th>11</th>\n",
       "      <td>False</td>\n",
       "      <td>1.5</td>\n",
       "      <td>175</td>\n",
       "      <td>0.182486</td>\n",
       "      <td>4293.904642</td>\n",
       "      <td>0.018024</td>\n",
       "    </tr>\n",
       "    <tr>\n",
       "      <th>6</th>\n",
       "      <td>True</td>\n",
       "      <td>1.5</td>\n",
       "      <td>75</td>\n",
       "      <td>0.099093</td>\n",
       "      <td>3111.274213</td>\n",
       "      <td>0.019213</td>\n",
       "    </tr>\n",
       "    <tr>\n",
       "      <th>10</th>\n",
       "      <td>False</td>\n",
       "      <td>1.5</td>\n",
       "      <td>125</td>\n",
       "      <td>0.145766</td>\n",
       "      <td>3767.516148</td>\n",
       "      <td>0.020557</td>\n",
       "    </tr>\n",
       "    <tr>\n",
       "      <th>8</th>\n",
       "      <td>True</td>\n",
       "      <td>1.5</td>\n",
       "      <td>175</td>\n",
       "      <td>0.183058</td>\n",
       "      <td>4281.819076</td>\n",
       "      <td>0.021341</td>\n",
       "    </tr>\n",
       "    <tr>\n",
       "      <th>7</th>\n",
       "      <td>True</td>\n",
       "      <td>1.5</td>\n",
       "      <td>125</td>\n",
       "      <td>0.160282</td>\n",
       "      <td>3687.551240</td>\n",
       "      <td>0.024687</td>\n",
       "    </tr>\n",
       "    <tr>\n",
       "      <th>3</th>\n",
       "      <td>False</td>\n",
       "      <td>0.5</td>\n",
       "      <td>75</td>\n",
       "      <td>0.094423</td>\n",
       "      <td>3192.431018</td>\n",
       "      <td>0.037347</td>\n",
       "    </tr>\n",
       "    <tr>\n",
       "      <th>0</th>\n",
       "      <td>True</td>\n",
       "      <td>0.5</td>\n",
       "      <td>75</td>\n",
       "      <td>0.213484</td>\n",
       "      <td>3461.588563</td>\n",
       "      <td>0.037942</td>\n",
       "    </tr>\n",
       "    <tr>\n",
       "      <th>5</th>\n",
       "      <td>False</td>\n",
       "      <td>0.5</td>\n",
       "      <td>175</td>\n",
       "      <td>0.183094</td>\n",
       "      <td>4178.570659</td>\n",
       "      <td>0.040666</td>\n",
       "    </tr>\n",
       "    <tr>\n",
       "      <th>2</th>\n",
       "      <td>True</td>\n",
       "      <td>0.5</td>\n",
       "      <td>175</td>\n",
       "      <td>0.199658</td>\n",
       "      <td>4514.798156</td>\n",
       "      <td>0.041822</td>\n",
       "    </tr>\n",
       "    <tr>\n",
       "      <th>4</th>\n",
       "      <td>False</td>\n",
       "      <td>0.5</td>\n",
       "      <td>125</td>\n",
       "      <td>0.161259</td>\n",
       "      <td>3630.286179</td>\n",
       "      <td>0.044711</td>\n",
       "    </tr>\n",
       "    <tr>\n",
       "      <th>1</th>\n",
       "      <td>True</td>\n",
       "      <td>0.5</td>\n",
       "      <td>125</td>\n",
       "      <td>0.169168</td>\n",
       "      <td>3767.465779</td>\n",
       "      <td>0.045621</td>\n",
       "    </tr>\n",
       "  </tbody>\n",
       "</table>\n",
       "</div>"
      ],
      "text/plain": [
       "      sym   nu    m  time_gen_blocks  time_predict      rmse\n",
       "9   False  1.5   75         0.094779   3218.469278  0.015598\n",
       "11  False  1.5  175         0.182486   4293.904642  0.018024\n",
       "6    True  1.5   75         0.099093   3111.274213  0.019213\n",
       "10  False  1.5  125         0.145766   3767.516148  0.020557\n",
       "8    True  1.5  175         0.183058   4281.819076  0.021341\n",
       "7    True  1.5  125         0.160282   3687.551240  0.024687\n",
       "3   False  0.5   75         0.094423   3192.431018  0.037347\n",
       "0    True  0.5   75         0.213484   3461.588563  0.037942\n",
       "5   False  0.5  175         0.183094   4178.570659  0.040666\n",
       "2    True  0.5  175         0.199658   4514.798156  0.041822\n",
       "4   False  0.5  125         0.161259   3630.286179  0.044711\n",
       "1    True  0.5  125         0.169168   3767.465779  0.045621"
      ]
     },
     "execution_count": 21,
     "metadata": {},
     "output_type": "execute_result"
    }
   ],
   "source": [
    "summary.sort_values('rmse').head(20)"
   ]
  }
 ],
 "metadata": {
  "kernelspec": {
   "display_name": "Python 3",
   "language": "python",
   "name": "python3"
  },
  "language_info": {
   "codemirror_mode": {
    "name": "ipython",
    "version": 3
   },
   "file_extension": ".py",
   "mimetype": "text/x-python",
   "name": "python",
   "nbconvert_exporter": "python",
   "pygments_lexer": "ipython3",
   "version": "3.12.3"
  }
 },
 "nbformat": 4,
 "nbformat_minor": 2
}
