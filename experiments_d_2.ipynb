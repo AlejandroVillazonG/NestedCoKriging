{
 "cells": [
  {
   "cell_type": "code",
   "execution_count": 1,
   "metadata": {},
   "outputs": [],
   "source": [
    "from sklearn.metrics import root_mean_squared_error\n",
    "\n",
    "import time\n",
    "\n",
    "from auxfunctions import *\n",
    "from implementations import *\n",
    "\n",
    "import warnings\n",
    "warnings.filterwarnings('ignore')"
   ]
  },
  {
   "cell_type": "code",
   "execution_count": 2,
   "metadata": {},
   "outputs": [],
   "source": [
    "def rho_matern(d, nu_1, nu_2, nu_12, theta_1, theta_2, theta_12):\n",
    "    return (theta_12**2/(theta_1*theta_2))**(d/2) * ( gamma(nu_1+d/2)*gamma(nu_2+d/2) / (gamma(nu_1)*gamma(nu_2)) )**(1/2) * gamma(nu_12)/gamma(nu_12+d/2)"
   ]
  },
  {
   "cell_type": "code",
   "execution_count": 39,
   "metadata": {},
   "outputs": [],
   "source": [
    "d = 2\n",
    "sup = 1\n",
    "\n",
    "n = 1_000\n",
    "n_test = 100"
   ]
  },
  {
   "cell_type": "markdown",
   "metadata": {},
   "source": [
    "# $\\nu_{1} = \\nu_{2} = 1/2$"
   ]
  },
  {
   "cell_type": "code",
   "execution_count": 46,
   "metadata": {},
   "outputs": [],
   "source": [
    "nu_1 = 1/2\n",
    "nu_2 = 1/2"
   ]
  },
  {
   "cell_type": "markdown",
   "metadata": {},
   "source": [
    "## $\\theta_{1} = 2$, $\\theta_{2} = 2.5$"
   ]
  },
  {
   "cell_type": "code",
   "execution_count": 40,
   "metadata": {},
   "outputs": [],
   "source": [
    "theta_1 = 2\n",
    "theta_2 = 2.5"
   ]
  },
  {
   "cell_type": "code",
   "execution_count": 41,
   "metadata": {},
   "outputs": [
    {
     "data": {
      "text/plain": [
       "0.8"
      ]
     },
     "execution_count": 41,
     "metadata": {},
     "output_type": "execute_result"
    }
   ],
   "source": [
    "nu_12 = ( nu_1 + nu_2 ) / 2\n",
    "theta_12 = min(theta_1, theta_2)\n",
    "rho_12 = rho_matern(d, nu_1, nu_2, nu_12, theta_1, theta_2, theta_12)\n",
    "rho_12"
   ]
  },
  {
   "cell_type": "code",
   "execution_count": null,
   "metadata": {},
   "outputs": [],
   "source": [
    "Ns = [2, 10, 100]\n",
    "ns_clusters = [\n",
    "    500, # 2\n",
    "    100, # 10\n",
    "    10,  # 100\n",
    "]\n",
    "\n",
    "rmses_NcoK_KM = []\n",
    "rmses_NcoK_NN = []\n",
    "rmses_coKNN = []\n",
    "\n",
    "rmses_NcoK_KM_true = []\n",
    "rmses_NcoK_NN_true = []\n",
    "rmses_coKNN_true = []\n",
    "\n",
    "times_NcoK_KM = []\n",
    "times_NcoK_NN = []\n",
    "times_coKNN = []\n",
    "\n",
    "num_replications = 50"
   ]
  },
  {
   "cell_type": "code",
   "execution_count": null,
   "metadata": {},
   "outputs": [],
   "source": [
    "for _ in range(num_replications):\n",
    "    X_1 = gen_observation_points(d, n + n_test, sup)\n",
    "    X_2 = gen_observation_points(d, n, sup)\n",
    "    sigma = K(X_1, X_2, matern_model(theta_1, nu_1), matern_model(theta_2, nu_2), matern_model(theta_12, nu_12), rho_12)\n",
    "\n",
    "    Y = np.linalg.cholesky(sigma) @ np.random.normal(0, 1, (2*n + n_test))\n",
    "    Y_1, Y_2 = Y[:(n+n_test)], Y[(n+n_test):]\n",
    " \n",
    "    X_test, Y_test = X_1[:n_test], Y_1[:n_test]\n",
    "    X_1, Y_1 = X_1[n_test:], Y_1[n_test:]\n",
    "\n",
    "    sigma = sigma[n_test:, :][:, n_test:]\n",
    "\n",
    "# CO KRIGING\n",
    "    Y_coK = co_kriging(X_test, X_1, X_2, Y_1, Y_2, matern_model(theta_1, nu_1), matern_model(theta_12, nu_12), rho_12, sigma)\n",
    "\n",
    "# CO KRIGING NN\n",
    "    rmse_aux, rmse_true_aux, time_aux = [], [], []\n",
    "    for N in Ns:    \n",
    "        start_time = time.time()\n",
    "        coKNN = coKrigingNN(X_1, X_2, Y_1, Y_2, N, matern_model, theta_1, theta_2, \n",
    "                            theta_12, nu_1, nu_2, nu_12, rho_12)\n",
    "        Y_pred = coKNN.predict(X_test)\n",
    "        end_time = time.time()\n",
    "\n",
    "        time_aux.append(end_time - start_time)\n",
    "        rmse_aux.append(root_mean_squared_error(Y_coK, Y_pred))\n",
    "        rmse_true_aux.append(root_mean_squared_error(Y_test, Y_pred))\n",
    "    rmses_coKNN.append(rmse_aux)\n",
    "    rmses_coKNN_true.append(rmse_true_aux)\n",
    "    times_coKNN.append(time_aux)\n",
    "\n",
    "# NESTED CO KRIGING\n",
    "    rmse_aux, rmse_true_aux, time_aux = [[], []], [[], []], [[], []]\n",
    "    for n_clusters in ns_clusters:\n",
    "    # NcoK KM\n",
    "        start_time = time.time()\n",
    "        NcoK = NestedCoKriging(X_1, X_2, Y_1, Y_2, matern_model, \n",
    "                                theta_1, theta_2, theta_12, nu_1,\n",
    "                                nu_2, nu_12, rho_12)\n",
    "        A_1 = gen_A(X_1, n_clusters)\n",
    "        A_2 = gen_A(X_2, n_clusters)\n",
    "        Y_pred = NcoK.predict(X_test, A_1, A_2)\n",
    "        end_time = time.time()\n",
    "        \n",
    "        time_aux[0].append(end_time-start_time)\n",
    "        rmse_aux[0].append(root_mean_squared_error(Y_coK, Y_pred))\n",
    "        rmse_true_aux[0].append(root_mean_squared_error(Y_test, Y_pred))\n",
    "\n",
    "    # NcoK NN\n",
    "        start_time = time.time()\n",
    "        Y_pred = NcoK.predict(X_test, NN=True, n_clusters=n_clusters)\n",
    "        end_time = time.time()\n",
    "\n",
    "        time_aux[1].append(end_time-start_time)\n",
    "        rmse_aux[1].append(root_mean_squared_error(Y_coK, Y_pred))\n",
    "        rmse_true_aux[1].append(root_mean_squared_error(Y_test, Y_pred))\n",
    "\n",
    "    rmses_NcoK_KM.append(rmse_aux[0])\n",
    "    rmses_NcoK_KM_true.append(rmse_true_aux[0])\n",
    "    times_NcoK_KM.append(time_aux[0])\n",
    "\n",
    "    rmses_NcoK_NN.append(rmse_aux[1])\n",
    "    rmses_NcoK_NN_true.append(rmse_true_aux[1])\n",
    "    times_NcoK_NN.append(time_aux[1])\n",
    "    \n",
    "    print(f'{_} listo :)')"
   ]
  },
  {
   "cell_type": "markdown",
   "metadata": {},
   "source": [
    "### Resultados RMSE vs CoK"
   ]
  },
  {
   "cell_type": "code",
   "execution_count": null,
   "metadata": {},
   "outputs": [],
   "source": [
    "np.hstack([rmses_NcoK_KM, rmses_NcoK_NN, rmses_coKNN])"
   ]
  },
  {
   "cell_type": "code",
   "execution_count": null,
   "metadata": {},
   "outputs": [],
   "source": [
    "plt.figure(figsize=(15,6))\n",
    "\n",
    "plt.boxplot(np.hstack([rmses_NcoK_KM, rmses_NcoK_NN, rmses_coKNN]))\n",
    "\n",
    "plt.xticks(range(1, 1 + 2*len(ns_clusters) + len(Ns)),\n",
    "           [f'NcoK KM\\n{n_clusters=}\\nN={n//n_clusters}' for n_clusters in ns_clusters] + \n",
    "           [f'NcoK NN\\n{n_clusters=}\\nN={n//n_clusters}' for n_clusters in ns_clusters] + \n",
    "           [f'coKNN\\n{N=}\\n{N/n:.2%}' for N in Ns])\n",
    "\n",
    "plt.ylabel('RMSE(CoKriging, Model)')\n",
    "plt.title(f'{n=:_.0f}, {d=}, {nu_1=}, {nu_2=}, {theta_1=}, {theta_2=}');"
   ]
  },
  {
   "cell_type": "markdown",
   "metadata": {},
   "source": [
    "### Resultados RMSE vs Y_true"
   ]
  },
  {
   "cell_type": "code",
   "execution_count": null,
   "metadata": {},
   "outputs": [],
   "source": [
    "np.hstack([rmses_NcoK_KM_true, rmses_NcoK_NN_true, rmses_coKNN_true])"
   ]
  },
  {
   "cell_type": "code",
   "execution_count": null,
   "metadata": {},
   "outputs": [],
   "source": [
    "plt.figure(figsize=(15,6))\n",
    "\n",
    "plt.boxplot(np.hstack([rmses_NcoK_KM_true, rmses_NcoK_NN_true, rmses_coKNN_true]))\n",
    "\n",
    "plt.xticks(range(1, 1 + 2*len(ns_clusters) + len(Ns)),\n",
    "           [f'NcoK KM\\n{n_clusters=}\\nN={n//n_clusters}' for n_clusters in ns_clusters] + \n",
    "           [f'NcoK NN\\n{n_clusters=}\\nN={n//n_clusters}' for n_clusters in ns_clusters] + \n",
    "           [f'coKNN\\n{N=}\\n{N/n:.2%}' for N in Ns])\n",
    "\n",
    "plt.ylabel('RMSE(Y_true, Model)')\n",
    "plt.title(f'{n=:_.0f}, {d=}, {nu_1=}, {nu_2=}, {theta_1=}, {theta_2=}');"
   ]
  },
  {
   "cell_type": "markdown",
   "metadata": {},
   "source": [
    "### Resultados Times"
   ]
  },
  {
   "cell_type": "code",
   "execution_count": null,
   "metadata": {},
   "outputs": [],
   "source": [
    "np.hstack([times_NcoK_KM,times_NcoK_NN,times_coKNN])"
   ]
  },
  {
   "cell_type": "code",
   "execution_count": null,
   "metadata": {},
   "outputs": [],
   "source": [
    "plt.figure(figsize=(15,6))\n",
    "\n",
    "plt.boxplot(np.hstack([times_NcoK_KM,times_NcoK_NN,times_coKNN]))\n",
    "\n",
    "plt.xticks(range(1, 1 + 2*len(ns_clusters) + len(Ns)),\n",
    "           [f'NcoK KM\\n{n_clusters=}\\nN={n//n_clusters}' for n_clusters in ns_clusters] + \n",
    "           [f'NcoK NN\\n{n_clusters=}\\nN={n//n_clusters}' for n_clusters in ns_clusters] + \n",
    "           [f'coKNN\\n{N=}\\n{N/n:.2%}' for N in Ns])\n",
    "\n",
    "plt.ylabel('Time [s]')\n",
    "plt.title(f'{n=:_.0f}, {d=}, {nu_1=}, {nu_2=}, {theta_1=}, {theta_2=}');"
   ]
  },
  {
   "cell_type": "markdown",
   "metadata": {},
   "source": [
    "## $\\theta_{1} = 4$, $\\theta_{2} = 5$"
   ]
  },
  {
   "cell_type": "code",
   "execution_count": 21,
   "metadata": {},
   "outputs": [],
   "source": [
    "theta_1 = 4\n",
    "theta_2 = 5"
   ]
  },
  {
   "cell_type": "code",
   "execution_count": 6,
   "metadata": {},
   "outputs": [
    {
     "data": {
      "text/plain": [
       "0.8"
      ]
     },
     "execution_count": 6,
     "metadata": {},
     "output_type": "execute_result"
    }
   ],
   "source": [
    "nu_12 = ( nu_1 + nu_2 ) / 2\n",
    "theta_12 = min(theta_1, theta_2)\n",
    "rho_12 = rho_matern(d, nu_1, nu_2, nu_12, theta_1, theta_2, theta_12)\n",
    "rho_12"
   ]
  },
  {
   "cell_type": "code",
   "execution_count": 7,
   "metadata": {},
   "outputs": [],
   "source": [
    "Ns = [2, 10, 100]\n",
    "ns_clusters = [\n",
    "    500, # 2\n",
    "    100, # 10\n",
    "    10,  # 100\n",
    "]\n",
    "\n",
    "rmses_NcoK_KM = []\n",
    "rmses_NcoK_NN = []\n",
    "rmses_coKNN = []\n",
    "\n",
    "rmses_NcoK_KM_true = []\n",
    "rmses_NcoK_NN_true = []\n",
    "rmses_coKNN_true = []\n",
    "\n",
    "times_NcoK_KM = []\n",
    "times_NcoK_NN = []\n",
    "times_coKNN = []\n",
    "\n",
    "num_replications = 50"
   ]
  },
  {
   "cell_type": "code",
   "execution_count": null,
   "metadata": {},
   "outputs": [],
   "source": [
    "for _ in range(num_replications):\n",
    "    X_1 = gen_observation_points(d, n + n_test, sup)\n",
    "    X_2 = gen_observation_points(d, n, sup)\n",
    "    sigma = K(X_1, X_2, matern_model(theta_1, nu_1), matern_model(theta_2, nu_2), matern_model(theta_12, nu_12), rho_12)\n",
    "\n",
    "    Y = np.linalg.cholesky(sigma) @ np.random.normal(0, 1, (2*n + n_test))\n",
    "    Y_1, Y_2 = Y[:(n+n_test)], Y[(n+n_test):]\n",
    " \n",
    "    X_test, Y_test = X_1[:n_test], Y_1[:n_test]\n",
    "    X_1, Y_1 = X_1[n_test:], Y_1[n_test:]\n",
    "\n",
    "    sigma = sigma[n_test:, :][:, n_test:]\n",
    "\n",
    "# CO KRIGING\n",
    "    Y_coK = co_kriging(X_test, X_1, X_2, Y_1, Y_2, matern_model(theta_1, nu_1), matern_model(theta_12, nu_12), rho_12, sigma)\n",
    "\n",
    "# CO KRIGING NN\n",
    "    rmse_aux, rmse_true_aux, time_aux = [], [], []\n",
    "    for N in Ns:    \n",
    "        start_time = time.time()\n",
    "        coKNN = coKrigingNN(X_1, X_2, Y_1, Y_2, N, matern_model, theta_1, theta_2, \n",
    "                            theta_12, nu_1, nu_2, nu_12, rho_12)\n",
    "        Y_pred = coKNN.predict(X_test)\n",
    "        end_time = time.time()\n",
    "\n",
    "        time_aux.append(end_time - start_time)\n",
    "        rmse_aux.append(root_mean_squared_error(Y_coK, Y_pred))\n",
    "        rmse_true_aux.append(root_mean_squared_error(Y_test, Y_pred))\n",
    "    rmses_coKNN.append(rmse_aux)\n",
    "    rmses_coKNN_true.append(rmse_true_aux)\n",
    "    times_coKNN.append(time_aux)\n",
    "\n",
    "# NESTED CO KRIGING\n",
    "    rmse_aux, rmse_true_aux, time_aux = [[], []], [[], []], [[], []]\n",
    "    for n_clusters in ns_clusters:\n",
    "    # NcoK KM\n",
    "        start_time = time.time()\n",
    "        NcoK = NestedCoKriging(X_1, X_2, Y_1, Y_2, matern_model, \n",
    "                                theta_1, theta_2, theta_12, nu_1,\n",
    "                                nu_2, nu_12, rho_12)\n",
    "        A_1 = gen_A(X_1, n_clusters)\n",
    "        A_2 = gen_A(X_2, n_clusters)\n",
    "        Y_pred = NcoK.predict(X_test, A_1, A_2)\n",
    "        end_time = time.time()\n",
    "        \n",
    "        time_aux[0].append(end_time-start_time)\n",
    "        rmse_aux[0].append(root_mean_squared_error(Y_coK, Y_pred))\n",
    "        rmse_true_aux[0].append(root_mean_squared_error(Y_test, Y_pred))\n",
    "\n",
    "    # NcoK NN\n",
    "        start_time = time.time()\n",
    "        Y_pred = NcoK.predict(X_test, NN=True, n_clusters=n_clusters)\n",
    "        end_time = time.time()\n",
    "\n",
    "        time_aux[1].append(end_time-start_time)\n",
    "        rmse_aux[1].append(root_mean_squared_error(Y_coK, Y_pred))\n",
    "        rmse_true_aux[1].append(root_mean_squared_error(Y_test, Y_pred))\n",
    "\n",
    "    rmses_NcoK_KM.append(rmse_aux[0])\n",
    "    rmses_NcoK_KM_true.append(rmse_true_aux[0])\n",
    "    times_NcoK_KM.append(time_aux[0])\n",
    "\n",
    "    rmses_NcoK_NN.append(rmse_aux[1])\n",
    "    rmses_NcoK_NN_true.append(rmse_true_aux[1])\n",
    "    times_NcoK_NN.append(time_aux[1])\n",
    "    \n",
    "    print(f'{_} listo :)')\n",
    "# 1274m 48.3s"
   ]
  },
  {
   "cell_type": "markdown",
   "metadata": {},
   "source": [
    "### Resultados RMSE vs CoK"
   ]
  },
  {
   "cell_type": "code",
   "execution_count": 9,
   "metadata": {},
   "outputs": [
    {
     "data": {
      "text/plain": [
       "array([[0.03185998, 0.0620989 , 0.06175665, 0.08331144, 0.02981375,\n",
       "        0.000732  , 0.1401896 , 0.03277806, 0.00074711],\n",
       "       [0.03663946, 0.06351723, 0.07049324, 0.09165939, 0.02792917,\n",
       "        0.00061588, 0.16503871, 0.03229247, 0.00074246],\n",
       "       [0.03077911, 0.05437974, 0.08144265, 0.07670429, 0.03683485,\n",
       "        0.00112324, 0.14727529, 0.0390771 , 0.00113348],\n",
       "       [0.03493717, 0.0692907 , 0.07915847, 0.08185348, 0.03050282,\n",
       "        0.00069022, 0.16528247, 0.03275916, 0.00068194],\n",
       "       [0.04019245, 0.06146176, 0.06598318, 0.07727887, 0.02503792,\n",
       "        0.00045264, 0.13292485, 0.03097026, 0.00049285],\n",
       "       [0.03623677, 0.07653347, 0.08319657, 0.0909598 , 0.02453747,\n",
       "        0.00062885, 0.13230656, 0.02680312, 0.00063369],\n",
       "       [0.03773185, 0.0605779 , 0.07056233, 0.08131479, 0.02684087,\n",
       "        0.00057707, 0.15017068, 0.03030181, 0.00061912],\n",
       "       [0.04089816, 0.07084965, 0.07771308, 0.07559024, 0.02985929,\n",
       "        0.00077354, 0.123691  , 0.03389654, 0.00080274],\n",
       "       [0.03140125, 0.07691454, 0.08557698, 0.0888713 , 0.02644185,\n",
       "        0.0006375 , 0.14184631, 0.02924823, 0.00068226],\n",
       "       [0.03524336, 0.07293487, 0.0865921 , 0.0745951 , 0.02698335,\n",
       "        0.00096956, 0.14048093, 0.02785542, 0.00101489],\n",
       "       [0.03537444, 0.06264242, 0.0646894 , 0.07141524, 0.02424075,\n",
       "        0.00061625, 0.12246909, 0.02965766, 0.00068699],\n",
       "       [0.03890889, 0.05841543, 0.09010924, 0.07951755, 0.047392  ,\n",
       "        0.0007353 , 0.15723536, 0.05257817, 0.00073577],\n",
       "       [0.04689782, 0.0699485 , 0.07894219, 0.07537129, 0.02543246,\n",
       "        0.00058817, 0.14741622, 0.02875126, 0.00060035],\n",
       "       [0.03197848, 0.07040523, 0.08295345, 0.06888386, 0.02299032,\n",
       "        0.00059258, 0.11547148, 0.02540965, 0.00066788],\n",
       "       [0.04154145, 0.06834142, 0.06727651, 0.06500292, 0.02476325,\n",
       "        0.0007703 , 0.1376808 , 0.02856731, 0.00083117],\n",
       "       [0.0359193 , 0.0684924 , 0.08662609, 0.0884989 , 0.02595777,\n",
       "        0.00081573, 0.15493745, 0.02834618, 0.00080746],\n",
       "       [0.03383747, 0.05550517, 0.06899326, 0.0579424 , 0.02170949,\n",
       "        0.00061336, 0.13206013, 0.02381111, 0.00067039],\n",
       "       [0.03962392, 0.0757481 , 0.06998002, 0.07327369, 0.02268887,\n",
       "        0.00060458, 0.12745068, 0.02531348, 0.00063429],\n",
       "       [0.03445213, 0.06528605, 0.07575589, 0.07533248, 0.02827536,\n",
       "        0.00078741, 0.12125072, 0.03221281, 0.00076786],\n",
       "       [0.03528231, 0.0641661 , 0.07895098, 0.06557693, 0.02884032,\n",
       "        0.00097881, 0.15427376, 0.03171154, 0.00091437],\n",
       "       [0.04079939, 0.07300071, 0.09140659, 0.08449819, 0.0252696 ,\n",
       "        0.00088375, 0.13747523, 0.02597576, 0.00088821],\n",
       "       [0.03653424, 0.05886279, 0.0815891 , 0.06873743, 0.03543187,\n",
       "        0.00080082, 0.13402981, 0.0375506 , 0.00078449],\n",
       "       [0.02819319, 0.07306718, 0.07493296, 0.07004138, 0.03270904,\n",
       "        0.00078542, 0.1372053 , 0.03451314, 0.0008625 ],\n",
       "       [0.03100682, 0.06737337, 0.08689882, 0.08394674, 0.02804591,\n",
       "        0.00124988, 0.15432586, 0.028535  , 0.00130175],\n",
       "       [0.03529135, 0.06481213, 0.06721057, 0.08149084, 0.02078809,\n",
       "        0.00074874, 0.11224865, 0.02240531, 0.00074486],\n",
       "       [0.03123706, 0.07033594, 0.08869939, 0.07593695, 0.0233243 ,\n",
       "        0.00062745, 0.16461496, 0.02559006, 0.00059589],\n",
       "       [0.03712599, 0.06542202, 0.0730814 , 0.07270421, 0.02857263,\n",
       "        0.00047934, 0.11078075, 0.029015  , 0.00047794],\n",
       "       [0.03689173, 0.07008728, 0.08588309, 0.07030625, 0.03280089,\n",
       "        0.00081415, 0.12808329, 0.0364761 , 0.00080072],\n",
       "       [0.03732776, 0.06086587, 0.05899403, 0.08623022, 0.02723656,\n",
       "        0.00090012, 0.11846515, 0.02885061, 0.00087908],\n",
       "       [0.04073353, 0.05588305, 0.08929851, 0.09105989, 0.0443448 ,\n",
       "        0.00069942, 0.15557152, 0.04101196, 0.00069988],\n",
       "       [0.02908477, 0.0638902 , 0.08569697, 0.08222713, 0.02693034,\n",
       "        0.00054986, 0.13278003, 0.02945223, 0.00056899],\n",
       "       [0.03400574, 0.0680717 , 0.06422061, 0.07430373, 0.02945134,\n",
       "        0.00076091, 0.17217981, 0.03181885, 0.0007182 ],\n",
       "       [0.0359984 , 0.06693293, 0.0716137 , 0.07843985, 0.0291069 ,\n",
       "        0.00067076, 0.13890615, 0.03225043, 0.00063764],\n",
       "       [0.03782616, 0.05480877, 0.09526019, 0.08256893, 0.03145505,\n",
       "        0.0007698 , 0.12955732, 0.0364586 , 0.00080892],\n",
       "       [0.0351502 , 0.0637125 , 0.07410418, 0.07850296, 0.02401565,\n",
       "        0.00050271, 0.13371819, 0.0248155 , 0.00048336],\n",
       "       [0.04110516, 0.07717435, 0.08250567, 0.08923721, 0.02937401,\n",
       "        0.00051716, 0.15421004, 0.03202881, 0.00062818],\n",
       "       [0.03542147, 0.06680207, 0.06960536, 0.0823539 , 0.03091888,\n",
       "        0.00066242, 0.1233577 , 0.03133136, 0.00073792],\n",
       "       [0.03919768, 0.05658024, 0.08064487, 0.06610469, 0.02815958,\n",
       "        0.00073958, 0.11933076, 0.03628888, 0.00071212],\n",
       "       [0.04249498, 0.06394371, 0.06179999, 0.07839722, 0.02750573,\n",
       "        0.00095171, 0.1358192 , 0.03100771, 0.00098633],\n",
       "       [0.03896099, 0.05936807, 0.08708922, 0.08522849, 0.02247671,\n",
       "        0.00126079, 0.13394354, 0.0245646 , 0.00130878],\n",
       "       [0.04369886, 0.07141673, 0.07698805, 0.07685997, 0.03849965,\n",
       "        0.00065611, 0.12531614, 0.0401515 , 0.00061904],\n",
       "       [0.04483375, 0.07044171, 0.08222074, 0.08170231, 0.02269212,\n",
       "        0.00090602, 0.14475133, 0.02637885, 0.00095732],\n",
       "       [0.04286175, 0.06795822, 0.09324312, 0.09709126, 0.02783253,\n",
       "        0.00084845, 0.14562926, 0.03100043, 0.0008057 ],\n",
       "       [0.0419752 , 0.05661925, 0.06924355, 0.0801414 , 0.03107843,\n",
       "        0.00093052, 0.13101601, 0.0316686 , 0.00106107],\n",
       "       [0.03758629, 0.06866292, 0.07103648, 0.08025378, 0.03134912,\n",
       "        0.00051162, 0.1210451 , 0.03093106, 0.00050536],\n",
       "       [0.04209489, 0.07288697, 0.06846172, 0.08401174, 0.02787003,\n",
       "        0.00054154, 0.14274046, 0.02595075, 0.00051653],\n",
       "       [0.04312686, 0.07150596, 0.09535501, 0.07948914, 0.03057266,\n",
       "        0.00065676, 0.12168864, 0.03232134, 0.00067751],\n",
       "       [0.0352428 , 0.06442444, 0.09042072, 0.08823981, 0.02707223,\n",
       "        0.00063153, 0.14851735, 0.03210253, 0.00064412],\n",
       "       [0.03666364, 0.05847527, 0.08120645, 0.07927536, 0.02921739,\n",
       "        0.00174215, 0.14175823, 0.03566214, 0.0017434 ],\n",
       "       [0.03742321, 0.08357649, 0.09151606, 0.07756726, 0.02867133,\n",
       "        0.00075391, 0.14215727, 0.02976641, 0.00082718]])"
      ]
     },
     "execution_count": 9,
     "metadata": {},
     "output_type": "execute_result"
    }
   ],
   "source": [
    "np.hstack([rmses_NcoK_KM, rmses_NcoK_NN, rmses_coKNN])"
   ]
  },
  {
   "cell_type": "code",
   "execution_count": 22,
   "metadata": {},
   "outputs": [
    {
     "data": {
      "image/png": "[encoded data removed]",
      "text/plain": [
       "<Figure size 1500x600 with 1 Axes>"
      ]
     },
     "metadata": {},
     "output_type": "display_data"
    }
   ],
   "source": [
    "plt.figure(figsize=(15,6))\n",
    "\n",
    "plt.boxplot(np.hstack([rmses_NcoK_KM, rmses_NcoK_NN, rmses_coKNN]))\n",
    "\n",
    "plt.xticks(range(1, 1 + 2*len(ns_clusters) + len(Ns)),\n",
    "           [f'NcoK KM\\n{n_clusters=}\\nN={n//n_clusters}' for n_clusters in ns_clusters] + \n",
    "           [f'NcoK NN\\n{n_clusters=}\\nN={n//n_clusters}' for n_clusters in ns_clusters] + \n",
    "           [f'coKNN\\n{N=}\\n{N/n:.2%}' for N in Ns])\n",
    "\n",
    "plt.ylabel('RMSE(CoKriging, Model)')\n",
    "plt.title(f'{n=:_.0f}, {d=}, {nu_1=}, {nu_2=}, {theta_1=}, {theta_2=}');"
   ]
  },
  {
   "cell_type": "markdown",
   "metadata": {},
   "source": [
    "### Resultados RMSE vs Y_true"
   ]
  },
  {
   "cell_type": "code",
   "execution_count": 11,
   "metadata": {},
   "outputs": [
    {
     "data": {
      "text/plain": [
       "array([[0.25314375, 0.24572582, 0.25605   , 0.26278014, 0.25303863,\n",
       "        0.24380243, 0.29198853, 0.25196892, 0.2437774 ],\n",
       "       [0.23806196, 0.24516075, 0.24510379, 0.24778977, 0.23772005,\n",
       "        0.23473951, 0.28451153, 0.24155226, 0.23477438],\n",
       "       [0.24659265, 0.23866643, 0.24678796, 0.25289401, 0.24334338,\n",
       "        0.24487402, 0.28587409, 0.24165147, 0.24485341],\n",
       "       [0.22810743, 0.24149449, 0.23797093, 0.24268888, 0.22876496,\n",
       "        0.22253954, 0.28231315, 0.23113257, 0.22255858],\n",
       "       [0.23324664, 0.23479746, 0.23837394, 0.24349804, 0.23036895,\n",
       "        0.23507465, 0.26212133, 0.23232441, 0.2350684 ],\n",
       "       [0.21078094, 0.21719188, 0.21541797, 0.21349313, 0.21070852,\n",
       "        0.2098283 , 0.24720296, 0.21096906, 0.20980522],\n",
       "       [0.27913118, 0.28516657, 0.29011211, 0.29833291, 0.28075133,\n",
       "        0.27990309, 0.32524532, 0.28140099, 0.2798887 ],\n",
       "       [0.27630355, 0.27635136, 0.29506632, 0.28834385, 0.27038795,\n",
       "        0.26938524, 0.29722848, 0.26964119, 0.26940478],\n",
       "       [0.2551801 , 0.26233397, 0.27212124, 0.2634013 , 0.25469849,\n",
       "        0.25301168, 0.29522427, 0.25507702, 0.25296236],\n",
       "       [0.25105093, 0.25328713, 0.26738682, 0.26128915, 0.24643342,\n",
       "        0.24639567, 0.27990748, 0.24645063, 0.24640749],\n",
       "       [0.24882872, 0.25734356, 0.26091371, 0.27133298, 0.25510523,\n",
       "        0.2531219 , 0.28732731, 0.25783783, 0.25313916],\n",
       "       [0.26093857, 0.26112091, 0.25663216, 0.26488577, 0.25419004,\n",
       "        0.25775088, 0.29309202, 0.25268646, 0.2577251 ],\n",
       "       [0.23792915, 0.23999451, 0.24435382, 0.24214938, 0.23370311,\n",
       "        0.2360409 , 0.27987156, 0.23420792, 0.2360412 ],\n",
       "       [0.26706412, 0.26822884, 0.25889466, 0.27851068, 0.26497164,\n",
       "        0.26865207, 0.29326631, 0.26178871, 0.26865038],\n",
       "       [0.22803436, 0.24942792, 0.24148977, 0.25026399, 0.23278154,\n",
       "        0.22641003, 0.25911542, 0.23620877, 0.22642683],\n",
       "       [0.28005096, 0.29325589, 0.30041403, 0.3116211 , 0.27899243,\n",
       "        0.27825253, 0.33925137, 0.27809955, 0.27826437],\n",
       "       [0.24101904, 0.25410764, 0.25683145, 0.25395472, 0.25409348,\n",
       "        0.24716046, 0.28934892, 0.25358584, 0.24711266],\n",
       "       [0.27476685, 0.27125574, 0.2729205 , 0.28321185, 0.26670802,\n",
       "        0.2691966 , 0.29606712, 0.26669363, 0.26920368],\n",
       "       [0.26012596, 0.27344493, 0.26736508, 0.27687944, 0.2521944 ,\n",
       "        0.25525797, 0.28080685, 0.25311892, 0.25526629],\n",
       "       [0.2469607 , 0.24999341, 0.25447119, 0.25845927, 0.24620731,\n",
       "        0.2451833 , 0.29277736, 0.24726228, 0.24518969],\n",
       "       [0.25708447, 0.26573875, 0.28277074, 0.26837833, 0.25632948,\n",
       "        0.25295534, 0.27985914, 0.25793867, 0.25296337],\n",
       "       [0.26139193, 0.27181803, 0.28421825, 0.2696187 , 0.26931861,\n",
       "        0.2592163 , 0.27535514, 0.27122173, 0.2592069 ],\n",
       "       [0.21463664, 0.2228627 , 0.22374892, 0.23089332, 0.21673589,\n",
       "        0.21117549, 0.25522256, 0.21725909, 0.21115788],\n",
       "       [0.28221361, 0.28465987, 0.279824  , 0.28823517, 0.28169791,\n",
       "        0.27888118, 0.29892857, 0.28057532, 0.2788417 ],\n",
       "       [0.27447145, 0.28315412, 0.28195099, 0.29696078, 0.27315343,\n",
       "        0.26852557, 0.30300706, 0.27367533, 0.26854402],\n",
       "       [0.23902085, 0.23667671, 0.2371643 , 0.24838694, 0.2349293 ,\n",
       "        0.23422642, 0.29631578, 0.2339866 , 0.23422528],\n",
       "       [0.23297586, 0.24197721, 0.24544423, 0.23086521, 0.2333406 ,\n",
       "        0.23383104, 0.24355111, 0.23295287, 0.23382946],\n",
       "       [0.25261181, 0.25838448, 0.25845598, 0.26006076, 0.25654464,\n",
       "        0.25317077, 0.2818781 , 0.25686938, 0.25312573],\n",
       "       [0.22781158, 0.23482832, 0.22651914, 0.23762107, 0.22436358,\n",
       "        0.22148991, 0.24984598, 0.22335147, 0.22148538],\n",
       "       [0.2405984 , 0.24989318, 0.25415747, 0.24758507, 0.24339244,\n",
       "        0.24129501, 0.28297811, 0.25161291, 0.24130673],\n",
       "       [0.28947723, 0.28786464, 0.28237318, 0.29113868, 0.29347819,\n",
       "        0.29186781, 0.30958688, 0.29245212, 0.291879  ],\n",
       "       [0.22989795, 0.22465012, 0.23591089, 0.22462612, 0.21966452,\n",
       "        0.22328136, 0.27251596, 0.2186896 , 0.22328912],\n",
       "       [0.22660703, 0.23555002, 0.2504707 , 0.23130268, 0.23518321,\n",
       "        0.2272403 , 0.25813146, 0.23571737, 0.22724614],\n",
       "       [0.22330724, 0.22864518, 0.24215081, 0.23756274, 0.22774895,\n",
       "        0.22283205, 0.25198915, 0.22898544, 0.22281886],\n",
       "       [0.24475332, 0.24714121, 0.24776333, 0.24796296, 0.23883283,\n",
       "        0.23968661, 0.2544648 , 0.23849342, 0.23968249],\n",
       "       [0.30772412, 0.32165761, 0.31835507, 0.31045298, 0.30172658,\n",
       "        0.29866749, 0.32334413, 0.30387682, 0.2986644 ],\n",
       "       [0.26684637, 0.27599819, 0.26828881, 0.27496118, 0.26055716,\n",
       "        0.26144776, 0.300138  , 0.26143792, 0.26142208],\n",
       "       [0.21986072, 0.23205862, 0.23824125, 0.23616057, 0.21997252,\n",
       "        0.22170135, 0.25130509, 0.22089797, 0.22168967],\n",
       "       [0.28974116, 0.29233219, 0.29157988, 0.30170078, 0.28824487,\n",
       "        0.28751759, 0.31882161, 0.28681638, 0.28752877],\n",
       "       [0.27177156, 0.27549127, 0.25851444, 0.25533216, 0.26742922,\n",
       "        0.2645394 , 0.26393744, 0.26885305, 0.26452144],\n",
       "       [0.26021857, 0.27646833, 0.2753616 , 0.25807254, 0.26466199,\n",
       "        0.26260026, 0.26870317, 0.26416374, 0.26260898],\n",
       "       [0.25116908, 0.26381401, 0.2689525 , 0.26900019, 0.24959516,\n",
       "        0.25090542, 0.29747284, 0.24813075, 0.25090906],\n",
       "       [0.24834791, 0.26121622, 0.27679179, 0.2757345 , 0.24552951,\n",
       "        0.2416629 , 0.27544431, 0.2459299 , 0.24165123],\n",
       "       [0.22669847, 0.2328805 , 0.24110544, 0.22650354, 0.21987884,\n",
       "        0.22012548, 0.24522018, 0.22072474, 0.22015749],\n",
       "       [0.29639025, 0.29236305, 0.29400861, 0.29551556, 0.2920593 ,\n",
       "        0.28763446, 0.3098929 , 0.29333793, 0.28764582],\n",
       "       [0.29856353, 0.31095625, 0.30857164, 0.31430323, 0.28984492,\n",
       "        0.29338346, 0.30589202, 0.29162405, 0.2933569 ],\n",
       "       [0.24904588, 0.25693742, 0.25965445, 0.25153723, 0.2487721 ,\n",
       "        0.24600396, 0.26841918, 0.25008613, 0.24599042],\n",
       "       [0.24728607, 0.25535663, 0.26955037, 0.26551912, 0.2422777 ,\n",
       "        0.2427804 , 0.30404476, 0.24593569, 0.24278002],\n",
       "       [0.25750521, 0.2651747 , 0.25991491, 0.26035007, 0.25250028,\n",
       "        0.25263919, 0.28969994, 0.25246276, 0.25264991],\n",
       "       [0.26884372, 0.27048955, 0.28357284, 0.2730048 , 0.26544958,\n",
       "        0.26658072, 0.29761215, 0.26638883, 0.26656713]])"
      ]
     },
     "execution_count": 11,
     "metadata": {},
     "output_type": "execute_result"
    }
   ],
   "source": [
    "np.hstack([rmses_NcoK_KM_true, rmses_NcoK_NN_true, rmses_coKNN_true])"
   ]
  },
  {
   "cell_type": "code",
   "execution_count": 23,
   "metadata": {},
   "outputs": [
    {
     "data": {
      "image/png": "[encoded data removed]",
      "text/plain": [
       "<Figure size 1500x600 with 1 Axes>"
      ]
     },
     "metadata": {},
     "output_type": "display_data"
    }
   ],
   "source": [
    "plt.figure(figsize=(15,6))\n",
    "\n",
    "plt.boxplot(np.hstack([rmses_NcoK_KM_true, rmses_NcoK_NN_true, rmses_coKNN_true]))\n",
    "\n",
    "plt.xticks(range(1, 1 + 2*len(ns_clusters) + len(Ns)),\n",
    "           [f'NcoK KM\\n{n_clusters=}\\nN={n//n_clusters}' for n_clusters in ns_clusters] + \n",
    "           [f'NcoK NN\\n{n_clusters=}\\nN={n//n_clusters}' for n_clusters in ns_clusters] + \n",
    "           [f'coKNN\\n{N=}\\n{N/n:.2%}' for N in Ns])\n",
    "\n",
    "plt.ylabel('RMSE(Y_true, Model)')\n",
    "plt.title(f'{n=:_.0f}, {d=}, {nu_1=}, {nu_2=}, {theta_1=}, {theta_2=}');"
   ]
  },
  {
   "cell_type": "markdown",
   "metadata": {},
   "source": [
    "### Resultados Times"
   ]
  },
  {
   "cell_type": "code",
   "execution_count": 13,
   "metadata": {},
   "outputs": [
    {
     "data": {
      "text/plain": [
       "array([[2.50187628e+01, 2.89991450e+00, 3.65001607e+00, 1.46365221e+03,\n",
       "        6.74835649e+01, 9.26742387e+00, 3.78580093e-02, 8.63811970e-02,\n",
       "        2.63550615e+00],\n",
       "       [1.95001099e+01, 2.92347670e+00, 3.78328109e+00, 1.46579796e+03,\n",
       "        6.78502269e+01, 9.41790080e+00, 3.35302353e-02, 5.52599430e-02,\n",
       "        4.61072683e-01],\n",
       "       [1.92003872e+01, 2.95212507e+00, 3.81640840e+00, 1.40577187e+03,\n",
       "        6.59973602e+01, 9.81665707e+00, 1.63655281e-02, 6.01246357e-02,\n",
       "        4.72677946e-01],\n",
       "       [1.92005470e+01, 2.98811173e+00, 3.78322554e+00, 1.42423854e+03,\n",
       "        6.81609182e+01, 9.43334889e+00, 3.35652828e-02, 3.28857899e-02,\n",
       "        4.66695786e-01],\n",
       "       [1.93138137e+01, 2.82248259e+00, 3.63176656e+00, 1.41774030e+03,\n",
       "        6.68782563e+01, 9.31659293e+00, 3.28128338e-02, 4.54785824e-02,\n",
       "        5.22253990e-01],\n",
       "       [1.92193341e+01, 2.90001035e+00, 3.73821855e+00, 1.42865421e+03,\n",
       "        6.66832714e+01, 9.44502187e+00, 2.67615318e-02, 3.43687534e-02,\n",
       "        3.83627415e-01],\n",
       "       [1.92458308e+01, 2.99945664e+00, 4.23296928e+00, 1.41366001e+03,\n",
       "        6.61667311e+01, 9.93340325e+00, 2.85367966e-02, 4.96792793e-02,\n",
       "        3.99780989e-01],\n",
       "       [1.93127799e+01, 2.97195244e+00, 3.78432322e+00, 1.40907058e+03,\n",
       "        6.65946679e+01, 9.34996104e+00, 3.21128368e-02, 4.97100353e-02,\n",
       "        3.86091471e-01],\n",
       "       [1.93999903e+01, 2.96702218e+00, 3.85048890e+00, 1.42227203e+03,\n",
       "        6.86318862e+01, 9.35010290e+00, 2.60500908e-02, 3.32200527e-02,\n",
       "        4.34348106e-01],\n",
       "       [1.93908110e+01, 2.93392873e+00, 3.84497952e+00, 1.44151363e+03,\n",
       "        6.84207683e+01, 9.54976439e+00, 2.20737457e-02, 4.45511341e-02,\n",
       "        4.51493979e-01],\n",
       "       [1.92288156e+01, 2.89486814e+00, 3.78242898e+00, 1.45361061e+03,\n",
       "        6.72000589e+01, 9.63371682e+00, 4.10523415e-02, 4.22966480e-02,\n",
       "        4.04777288e-01],\n",
       "       [1.92982354e+01, 2.93308568e+00, 3.78294778e+00, 1.40270564e+03,\n",
       "        6.64851437e+01, 9.45074081e+00, 2.27637291e-02, 6.27131462e-02,\n",
       "        3.85162830e-01],\n",
       "       [1.93705087e+01, 2.96623492e+00, 3.72967076e+00, 1.44936996e+03,\n",
       "        6.77670412e+01, 9.27028275e+00, 3.35481167e-02, 5.93831539e-02,\n",
       "        4.39024448e-01],\n",
       "       [1.93339672e+01, 2.91626358e+00, 3.69958830e+00, 1.42295496e+03,\n",
       "        6.83667307e+01, 9.48328495e+00, 2.34305859e-02, 4.33845520e-02,\n",
       "        4.33183193e-01],\n",
       "       [1.92839468e+01, 2.94895768e+00, 3.78344274e+00, 1.43552350e+03,\n",
       "        6.75332952e+01, 9.58336687e+00, 2.50875950e-02, 4.42049503e-02,\n",
       "        3.87901306e-01],\n",
       "       [1.93008766e+01, 2.87479043e+00, 3.74554610e+00, 1.41055664e+03,\n",
       "        6.78630264e+01, 9.29993773e+00, 3.35311890e-02, 4.99668121e-02,\n",
       "        4.49695110e-01],\n",
       "       [1.92670662e+01, 2.88358164e+00, 3.73337984e+00, 1.41145541e+03,\n",
       "        6.64665782e+01, 9.43327999e+00, 2.29563713e-02, 4.71892357e-02,\n",
       "        3.98831367e-01],\n",
       "       [1.92136075e+01, 2.89992881e+00, 3.64989281e+00, 1.47770564e+03,\n",
       "        6.77665474e+01, 9.18335509e+00, 3.33456993e-02, 5.55760860e-02,\n",
       "        3.96921158e-01],\n",
       "       [1.96686490e+01, 2.98335862e+00, 3.74957156e+00, 1.41581742e+03,\n",
       "        6.81172254e+01, 1.10667071e+01, 2.36549377e-02, 4.28044796e-02,\n",
       "        4.19440031e-01],\n",
       "       [1.92546594e+01, 2.91979051e+00, 3.71608067e+00, 1.46166888e+03,\n",
       "        6.74625192e+01, 9.41614962e+00, 2.63583660e-02, 4.83736992e-02,\n",
       "        4.25246716e-01],\n",
       "       [1.93741629e+01, 2.93573618e+00, 3.65009046e+00, 1.43047941e+03,\n",
       "        6.62168868e+01, 9.18400383e+00, 3.16209793e-02, 5.17060757e-02,\n",
       "        3.79703999e-01],\n",
       "       [1.92293508e+01, 2.95338321e+00, 3.70002460e+00, 1.41366967e+03,\n",
       "        6.71967812e+01, 9.36748147e+00, 1.73420906e-02, 5.83512783e-02,\n",
       "        4.27863836e-01],\n",
       "       [1.93188229e+01, 2.94982290e+00, 3.60010004e+00, 1.41268635e+03,\n",
       "        6.68167729e+01, 9.43332195e+00, 1.56607628e-02, 5.14409542e-02,\n",
       "        3.96398067e-01],\n",
       "       [1.92698879e+01, 2.95016074e+00, 3.73996758e+00, 1.44076686e+03,\n",
       "        6.86933773e+01, 9.36665463e+00, 3.59201431e-02, 4.73947525e-02,\n",
       "        3.85826349e-01],\n",
       "       [1.93049684e+01, 2.92792368e+00, 3.58341599e+00, 1.43330142e+03,\n",
       "        6.61386693e+01, 9.18179464e+00, 1.58951283e-02, 6.07552528e-02,\n",
       "        4.03185844e-01],\n",
       "       [1.93837206e+01, 2.89989686e+00, 6.96755004e+00, 1.41812215e+03,\n",
       "        6.80834911e+01, 2.29024608e+01, 3.26581001e-02, 4.76841927e-02,\n",
       "        4.33843374e-01],\n",
       "       [1.95218513e+01, 2.89806509e+00, 3.78345227e+00, 1.41523177e+03,\n",
       "        6.63342695e+01, 9.35393405e+00, 3.55939865e-02, 4.73234653e-02,\n",
       "        2.65167761e+00],\n",
       "       [1.92840714e+01, 3.00039530e+00, 3.64970732e+00, 1.45750514e+03,\n",
       "        6.79834065e+01, 9.18628931e+00, 2.58207321e-02, 6.01949692e-02,\n",
       "        4.33980703e-01],\n",
       "       [1.92784815e+01, 2.90797329e+00, 3.71070576e+00, 1.41235076e+03,\n",
       "        6.76393943e+01, 9.43461418e+00, 1.70221329e-02, 6.05156422e-02,\n",
       "        4.37101603e-01],\n",
       "       [1.93371761e+01, 2.98307896e+00, 3.61638260e+00, 1.41478579e+03,\n",
       "        6.80669804e+01, 9.16642046e+00, 3.98960114e-02, 4.32496071e-02,\n",
       "        4.32098389e-01],\n",
       "       [1.93773656e+01, 2.93340945e+00, 3.70259094e+00, 1.43213843e+03,\n",
       "        6.83843954e+01, 9.19935441e+00, 3.93667221e-02, 4.37986851e-02,\n",
       "        4.20351982e-01],\n",
       "       [1.93043261e+01, 2.99913144e+00, 3.70229316e+00, 1.45065034e+03,\n",
       "        6.80833993e+01, 9.26649380e+00, 3.36265564e-02, 5.72893620e-02,\n",
       "        4.25634146e-01],\n",
       "       [1.92827611e+01, 2.97857237e+00, 3.69394398e+00, 1.42760717e+03,\n",
       "        6.67562830e+01, 9.55079937e+00, 1.72719955e-02, 5.53359985e-02,\n",
       "        4.46050882e-01],\n",
       "       [1.92336895e+01, 2.85318637e+00, 3.56648493e+00, 1.40123548e+03,\n",
       "        6.82013974e+01, 9.08337951e+00, 1.69274807e-02, 5.93719482e-02,\n",
       "        4.40186977e-01],\n",
       "       [1.92339814e+01, 2.98364162e+00, 3.72339821e+00, 1.43352192e+03,\n",
       "        6.65773666e+01, 9.31996608e+00, 2.35059261e-02, 4.33785915e-02,\n",
       "        4.16431189e-01],\n",
       "       [1.92814069e+01, 2.89808416e+00, 3.91599250e+00, 1.40701253e+03,\n",
       "        6.63458519e+01, 9.31676483e+00, 2.56888866e-02, 3.03637981e-02,\n",
       "        6.99974060e-01],\n",
       "       [1.92799315e+01, 2.91710305e+00, 3.81887865e+00, 1.42112189e+03,\n",
       "        6.62054176e+01, 9.30208850e+00, 2.58150101e-02, 3.14271450e-02,\n",
       "        4.04534578e-01],\n",
       "       [1.92648056e+01, 2.91297674e+00, 3.60358667e+00, 1.41215654e+03,\n",
       "        6.64168799e+01, 9.25444078e+00, 3.94139290e-02, 4.39083576e-02,\n",
       "        4.36826229e-01],\n",
       "       [1.92335567e+01, 2.92851925e+00, 3.69996405e+00, 1.41551018e+03,\n",
       "        6.85168381e+01, 9.31549907e+00, 3.20205688e-02, 4.74357605e-02,\n",
       "        4.19517517e-01],\n",
       "       [1.92749763e+01, 2.94998169e+00, 3.69977188e+00, 1.41277184e+03,\n",
       "        6.78670938e+01, 9.28405380e+00, 2.77836323e-02, 3.53939533e-02,\n",
       "        4.09638643e-01],\n",
       "       [1.96320264e+01, 2.95001125e+00, 3.98501754e+00, 1.42533028e+03,\n",
       "        6.85485799e+01, 9.14999175e+00, 3.79674435e-02, 5.00476360e-02,\n",
       "        4.52362537e-01],\n",
       "       [1.92747188e+01, 2.94919300e+00, 3.69583988e+00, 1.43477972e+03,\n",
       "        6.63036792e+01, 9.24887061e+00, 2.26383209e-02, 4.41513062e-02,\n",
       "        4.16496515e-01],\n",
       "       [1.93269677e+01, 2.93357563e+00, 3.54643965e+00, 1.41167883e+03,\n",
       "        6.71026874e+01, 9.15000510e+00, 1.70130730e-02, 6.04357719e-02,\n",
       "        4.38181162e-01],\n",
       "       [1.92353261e+01, 2.88340473e+00, 3.69563198e+00, 1.41105636e+03,\n",
       "        6.68355088e+01, 9.33337259e+00, 2.38077641e-02, 3.36878300e-02,\n",
       "        4.13821697e-01],\n",
       "       [1.92579620e+01, 2.88013196e+00, 3.70890212e+00, 1.39987488e+03,\n",
       "        6.80193207e+01, 9.22346115e+00, 1.77676678e-02, 4.32138443e-02,\n",
       "        4.41111565e-01],\n",
       "       [1.92174408e+01, 2.98575163e+00, 3.65001702e+00, 1.40473835e+03,\n",
       "        6.81160626e+01, 9.29998541e+00, 2.58457661e-02, 4.53934669e-02,\n",
       "        3.89643908e-01],\n",
       "       [1.92824049e+01, 2.86640263e+00, 3.59349346e+00, 1.40725281e+03,\n",
       "        6.62715080e+01, 9.29709482e+00, 2.28931904e-02, 4.31158543e-02,\n",
       "        4.20595884e-01],\n",
       "       [1.92299542e+01, 2.90020704e+00, 3.70421171e+00, 1.40612165e+03,\n",
       "        6.79791656e+01, 9.29998994e+00, 1.71043873e-02, 6.22668266e-02,\n",
       "        4.23596621e-01],\n",
       "       [1.92506323e+01, 2.85485768e+00, 3.59995580e+00, 1.40550525e+03,\n",
       "        6.71968999e+01, 9.26669860e+00, 2.47375965e-02, 5.31280041e-02,\n",
       "        3.80030155e-01],\n",
       "       [1.92495337e+01, 4.03323245e+00, 4.54681778e+00, 1.42703848e+03,\n",
       "        1.00931440e+02, 2.92894316e+01, 1.89235210e-02, 4.47518826e-02,\n",
       "        4.33286428e-01]])"
      ]
     },
     "execution_count": 13,
     "metadata": {},
     "output_type": "execute_result"
    }
   ],
   "source": [
    "np.hstack([times_NcoK_KM,times_NcoK_NN,times_coKNN])"
   ]
  },
  {
   "cell_type": "code",
   "execution_count": 24,
   "metadata": {},
   "outputs": [
    {
     "data": {
      "image/png": "[encoded data removed]",
      "text/plain": [
       "<Figure size 1500x600 with 1 Axes>"
      ]
     },
     "metadata": {},
     "output_type": "display_data"
    }
   ],
   "source": [
    "plt.figure(figsize=(15,6))\n",
    "\n",
    "plt.boxplot(np.hstack([times_NcoK_KM,times_NcoK_NN,times_coKNN]))\n",
    "\n",
    "plt.xticks(range(1, 1 + 2*len(ns_clusters) + len(Ns)),\n",
    "           [f'NcoK KM\\n{n_clusters=}\\nN={n//n_clusters}' for n_clusters in ns_clusters] + \n",
    "           [f'NcoK NN\\n{n_clusters=}\\nN={n//n_clusters}' for n_clusters in ns_clusters] + \n",
    "           [f'coKNN\\n{N=}\\n{N/n:.2%}' for N in Ns])\n",
    "\n",
    "plt.ylabel('Time [s]')\n",
    "plt.title(f'{n=:_.0f}, {d=}, {nu_1=}, {nu_2=}, {theta_1=}, {theta_2=}');"
   ]
  },
  {
   "cell_type": "markdown",
   "metadata": {},
   "source": [
    "# $\\theta_1 = 4$, $\\theta_2 = 5$"
   ]
  },
  {
   "cell_type": "code",
   "execution_count": 43,
   "metadata": {},
   "outputs": [],
   "source": [
    "theta_1 = 4\n",
    "theta_2 = 5"
   ]
  },
  {
   "cell_type": "markdown",
   "metadata": {},
   "source": [
    "## $\\nu_{1} = 1/2, \\nu_{2} = 5/2$"
   ]
  },
  {
   "cell_type": "code",
   "execution_count": 44,
   "metadata": {},
   "outputs": [],
   "source": [
    "nu_1 = 1/2\n",
    "nu_2 = 5/2"
   ]
  },
  {
   "cell_type": "code",
   "execution_count": null,
   "metadata": {},
   "outputs": [],
   "source": [
    "nu_12 = ( nu_1 + nu_2 ) / 2\n",
    "theta_12 = min(theta_1, theta_2)\n",
    "rho_12 = rho_matern(d, nu_1, nu_2, nu_12, theta_1, theta_2, theta_12)\n",
    "rho_12"
   ]
  },
  {
   "cell_type": "code",
   "execution_count": null,
   "metadata": {},
   "outputs": [],
   "source": [
    "Ns = [2, 10, 100]\n",
    "ns_clusters = [\n",
    "    500, # 2\n",
    "    100, # 10\n",
    "    10,  # 100\n",
    "]\n",
    "\n",
    "rmses_NcoK_KM = []\n",
    "rmses_NcoK_NN = []\n",
    "rmses_coKNN = []\n",
    "\n",
    "rmses_NcoK_KM_true = []\n",
    "rmses_NcoK_NN_true = []\n",
    "rmses_coKNN_true = []\n",
    "\n",
    "times_NcoK_KM = []\n",
    "times_NcoK_NN = []\n",
    "times_coKNN = []\n",
    "\n",
    "num_replications = 50"
   ]
  },
  {
   "cell_type": "code",
   "execution_count": null,
   "metadata": {},
   "outputs": [],
   "source": [
    "for _ in range(num_replications):\n",
    "    X_1 = gen_observation_points(d, n + n_test, sup)\n",
    "    X_2 = gen_observation_points(d, n, sup)\n",
    "    sigma = K(X_1, X_2, matern_model(theta_1, nu_1), matern_model(theta_2, nu_2), matern_model(theta_12, nu_12), rho_12)\n",
    "\n",
    "    Y = np.linalg.cholesky(sigma) @ np.random.normal(0, 1, (2*n + n_test))\n",
    "    Y_1, Y_2 = Y[:(n+n_test)], Y[(n+n_test):]\n",
    " \n",
    "    X_test, Y_test = X_1[:n_test], Y_1[:n_test]\n",
    "    X_1, Y_1 = X_1[n_test:], Y_1[n_test:]\n",
    "\n",
    "    sigma = sigma[n_test:, :][:, n_test:]\n",
    "\n",
    "# CO KRIGING\n",
    "    Y_coK = co_kriging(X_test, X_1, X_2, Y_1, Y_2, matern_model(theta_1, nu_1), matern_model(theta_12, nu_12), rho_12, sigma)\n",
    "\n",
    "# CO KRIGING NN\n",
    "    rmse_aux, rmse_true_aux, time_aux = [], [], []\n",
    "    for N in Ns:    \n",
    "        start_time = time.time()\n",
    "        coKNN = coKrigingNN(X_1, X_2, Y_1, Y_2, N, matern_model, theta_1, theta_2, \n",
    "                            theta_12, nu_1, nu_2, nu_12, rho_12)\n",
    "        Y_pred = coKNN.predict(X_test)\n",
    "        end_time = time.time()\n",
    "\n",
    "        time_aux.append(end_time - start_time)\n",
    "        rmse_aux.append(root_mean_squared_error(Y_coK, Y_pred))\n",
    "        rmse_true_aux.append(root_mean_squared_error(Y_test, Y_pred))\n",
    "    rmses_coKNN.append(rmse_aux)\n",
    "    rmses_coKNN_true.append(rmse_true_aux)\n",
    "    times_coKNN.append(time_aux)\n",
    "\n",
    "# NESTED CO KRIGING\n",
    "    rmse_aux, rmse_true_aux, time_aux = [[], []], [[], []], [[], []]\n",
    "    for n_clusters in ns_clusters:\n",
    "    # NcoK KM\n",
    "        start_time = time.time()\n",
    "        NcoK = NestedCoKriging(X_1, X_2, Y_1, Y_2, matern_model, \n",
    "                                theta_1, theta_2, theta_12, nu_1,\n",
    "                                nu_2, nu_12, rho_12)\n",
    "        A_1 = gen_A(X_1, n_clusters)\n",
    "        A_2 = gen_A(X_2, n_clusters)\n",
    "        Y_pred = NcoK.predict(X_test, A_1, A_2)\n",
    "        end_time = time.time()\n",
    "        \n",
    "        time_aux[0].append(end_time-start_time)\n",
    "        rmse_aux[0].append(root_mean_squared_error(Y_coK, Y_pred))\n",
    "        rmse_true_aux[0].append(root_mean_squared_error(Y_test, Y_pred))\n",
    "\n",
    "    # NcoK NN\n",
    "        start_time = time.time()\n",
    "        Y_pred = NcoK.predict(X_test, NN=True, n_clusters=n_clusters)\n",
    "        end_time = time.time()\n",
    "\n",
    "        time_aux[1].append(end_time-start_time)\n",
    "        rmse_aux[1].append(root_mean_squared_error(Y_coK, Y_pred))\n",
    "        rmse_true_aux[1].append(root_mean_squared_error(Y_test, Y_pred))\n",
    "\n",
    "    rmses_NcoK_KM.append(rmse_aux[0])\n",
    "    rmses_NcoK_KM_true.append(rmse_true_aux[0])\n",
    "    times_NcoK_KM.append(time_aux[0])\n",
    "\n",
    "    rmses_NcoK_NN.append(rmse_aux[1])\n",
    "    rmses_NcoK_NN_true.append(rmse_true_aux[1])\n",
    "    times_NcoK_NN.append(time_aux[1])\n",
    "    \n",
    "    print(f'{_} listo :)')"
   ]
  },
  {
   "cell_type": "markdown",
   "metadata": {},
   "source": [
    "### Resultados RMSE vs CoK"
   ]
  },
  {
   "cell_type": "code",
   "execution_count": null,
   "metadata": {},
   "outputs": [],
   "source": [
    "np.hstack([rmses_NcoK_KM, rmses_NcoK_NN, rmses_coKNN])"
   ]
  },
  {
   "cell_type": "code",
   "execution_count": null,
   "metadata": {},
   "outputs": [],
   "source": [
    "plt.figure(figsize=(15,6))\n",
    "\n",
    "plt.boxplot(np.hstack([rmses_NcoK_KM, rmses_NcoK_NN, rmses_coKNN]))\n",
    "\n",
    "plt.xticks(range(1, 1 + 2*len(ns_clusters) + len(Ns)),\n",
    "           [f'NcoK KM\\n{n_clusters=}\\nN={n//n_clusters}' for n_clusters in ns_clusters] + \n",
    "           [f'NcoK NN\\n{n_clusters=}\\nN={n//n_clusters}' for n_clusters in ns_clusters] + \n",
    "           [f'coKNN\\n{N=}\\n{N/n:.2%}' for N in Ns])\n",
    "\n",
    "plt.ylabel('RMSE(CoKriging, Model)')\n",
    "plt.title(f'{n=:_.0f}, {d=}, {nu_1=}, {nu_2=}, {theta_1=}, {theta_2=}');"
   ]
  },
  {
   "cell_type": "markdown",
   "metadata": {},
   "source": [
    "### Resultados RMSE vs Y_true"
   ]
  },
  {
   "cell_type": "code",
   "execution_count": null,
   "metadata": {},
   "outputs": [],
   "source": [
    "np.hstack([rmses_NcoK_KM_true, rmses_NcoK_NN_true, rmses_coKNN_true])"
   ]
  },
  {
   "cell_type": "code",
   "execution_count": null,
   "metadata": {},
   "outputs": [],
   "source": [
    "plt.figure(figsize=(15,6))\n",
    "\n",
    "plt.boxplot(np.hstack([rmses_NcoK_KM_true, rmses_NcoK_NN_true, rmses_coKNN_true]))\n",
    "\n",
    "plt.xticks(range(1, 1 + 2*len(ns_clusters) + len(Ns)),\n",
    "           [f'NcoK KM\\n{n_clusters=}\\nN={n//n_clusters}' for n_clusters in ns_clusters] + \n",
    "           [f'NcoK NN\\n{n_clusters=}\\nN={n//n_clusters}' for n_clusters in ns_clusters] + \n",
    "           [f'coKNN\\n{N=}\\n{N/n:.2%}' for N in Ns])\n",
    "\n",
    "plt.ylabel('RMSE(Y_true, Model)')\n",
    "plt.title(f'{n=:_.0f}, {d=}, {nu_1=}, {nu_2=}, {theta_1=}, {theta_2=}');"
   ]
  },
  {
   "cell_type": "markdown",
   "metadata": {},
   "source": [
    "### Resultados Times"
   ]
  },
  {
   "cell_type": "code",
   "execution_count": null,
   "metadata": {},
   "outputs": [],
   "source": [
    "np.hstack([times_NcoK_KM,times_NcoK_NN,times_coKNN])"
   ]
  },
  {
   "cell_type": "code",
   "execution_count": null,
   "metadata": {},
   "outputs": [],
   "source": [
    "plt.figure(figsize=(15,6))\n",
    "\n",
    "plt.boxplot(np.hstack([times_NcoK_KM,times_NcoK_NN,times_coKNN]))\n",
    "\n",
    "plt.xticks(range(1, 1 + 2*len(ns_clusters) + len(Ns)),\n",
    "           [f'NcoK KM\\n{n_clusters=}\\nN={n//n_clusters}' for n_clusters in ns_clusters] + \n",
    "           [f'NcoK NN\\n{n_clusters=}\\nN={n//n_clusters}' for n_clusters in ns_clusters] + \n",
    "           [f'coKNN\\n{N=}\\n{N/n:.2%}' for N in Ns])\n",
    "\n",
    "plt.ylabel('Time [s]')\n",
    "plt.title(f'{n=:_.0f}, {d=}, {nu_1=}, {nu_2=}, {theta_1=}, {theta_2=}');"
   ]
  },
  {
   "cell_type": "markdown",
   "metadata": {},
   "source": [
    "## $\\nu_{1} = 5/2, \\nu_{2} = 1/2$"
   ]
  },
  {
   "cell_type": "code",
   "execution_count": null,
   "metadata": {},
   "outputs": [],
   "source": [
    "nu_1 = 5/2\n",
    "nu_2 = 1/2"
   ]
  },
  {
   "cell_type": "code",
   "execution_count": null,
   "metadata": {},
   "outputs": [],
   "source": [
    "nu_12 = ( nu_1 + nu_2 ) / 2\n",
    "theta_12 = min(theta_1, theta_2)\n",
    "rho_12 = rho_matern(d, nu_1, nu_2, nu_12, theta_1, theta_2, theta_12)\n",
    "rho_12"
   ]
  },
  {
   "cell_type": "code",
   "execution_count": null,
   "metadata": {},
   "outputs": [],
   "source": [
    "Ns = [2, 10, 100]\n",
    "ns_clusters = [\n",
    "    500, # 2\n",
    "    100, # 10\n",
    "    10,  # 100\n",
    "]\n",
    "\n",
    "rmses_NcoK_KM = []\n",
    "rmses_NcoK_NN = []\n",
    "rmses_coKNN = []\n",
    "\n",
    "rmses_NcoK_KM_true = []\n",
    "rmses_NcoK_NN_true = []\n",
    "rmses_coKNN_true = []\n",
    "\n",
    "times_NcoK_KM = []\n",
    "times_NcoK_NN = []\n",
    "times_coKNN = []\n",
    "\n",
    "num_replications = 50"
   ]
  },
  {
   "cell_type": "code",
   "execution_count": null,
   "metadata": {},
   "outputs": [],
   "source": [
    "for _ in range(num_replications):\n",
    "    X_1 = gen_observation_points(d, n + n_test, sup)\n",
    "    X_2 = gen_observation_points(d, n, sup)\n",
    "    sigma = K(X_1, X_2, matern_model(theta_1, nu_1), matern_model(theta_2, nu_2), matern_model(theta_12, nu_12), rho_12)\n",
    "\n",
    "    Y = np.linalg.cholesky(sigma) @ np.random.normal(0, 1, (2*n + n_test))\n",
    "    Y_1, Y_2 = Y[:(n+n_test)], Y[(n+n_test):]\n",
    " \n",
    "    X_test, Y_test = X_1[:n_test], Y_1[:n_test]\n",
    "    X_1, Y_1 = X_1[n_test:], Y_1[n_test:]\n",
    "\n",
    "    sigma = sigma[n_test:, :][:, n_test:]\n",
    "\n",
    "# CO KRIGING\n",
    "    Y_coK = co_kriging(X_test, X_1, X_2, Y_1, Y_2, matern_model(theta_1, nu_1), matern_model(theta_12, nu_12), rho_12, sigma)\n",
    "\n",
    "# CO KRIGING NN\n",
    "    rmse_aux, rmse_true_aux, time_aux = [], [], []\n",
    "    for N in Ns:    \n",
    "        start_time = time.time()\n",
    "        coKNN = coKrigingNN(X_1, X_2, Y_1, Y_2, N, matern_model, theta_1, theta_2, \n",
    "                            theta_12, nu_1, nu_2, nu_12, rho_12)\n",
    "        Y_pred = coKNN.predict(X_test)\n",
    "        end_time = time.time()\n",
    "\n",
    "        time_aux.append(end_time - start_time)\n",
    "        rmse_aux.append(root_mean_squared_error(Y_coK, Y_pred))\n",
    "        rmse_true_aux.append(root_mean_squared_error(Y_test, Y_pred))\n",
    "    rmses_coKNN.append(rmse_aux)\n",
    "    rmses_coKNN_true.append(rmse_true_aux)\n",
    "    times_coKNN.append(time_aux)\n",
    "\n",
    "# NESTED CO KRIGING\n",
    "    rmse_aux, rmse_true_aux, time_aux = [[], []], [[], []], [[], []]\n",
    "    for n_clusters in ns_clusters:\n",
    "    # NcoK KM\n",
    "        start_time = time.time()\n",
    "        NcoK = NestedCoKriging(X_1, X_2, Y_1, Y_2, matern_model, \n",
    "                                theta_1, theta_2, theta_12, nu_1,\n",
    "                                nu_2, nu_12, rho_12)\n",
    "        A_1 = gen_A(X_1, n_clusters)\n",
    "        A_2 = gen_A(X_2, n_clusters)\n",
    "        Y_pred = NcoK.predict(X_test, A_1, A_2)\n",
    "        end_time = time.time()\n",
    "        \n",
    "        time_aux[0].append(end_time-start_time)\n",
    "        rmse_aux[0].append(root_mean_squared_error(Y_coK, Y_pred))\n",
    "        rmse_true_aux[0].append(root_mean_squared_error(Y_test, Y_pred))\n",
    "\n",
    "    # NcoK NN\n",
    "        start_time = time.time()\n",
    "        Y_pred = NcoK.predict(X_test, NN=True, n_clusters=n_clusters)\n",
    "        end_time = time.time()\n",
    "\n",
    "        time_aux[1].append(end_time-start_time)\n",
    "        rmse_aux[1].append(root_mean_squared_error(Y_coK, Y_pred))\n",
    "        rmse_true_aux[1].append(root_mean_squared_error(Y_test, Y_pred))\n",
    "\n",
    "    rmses_NcoK_KM.append(rmse_aux[0])\n",
    "    rmses_NcoK_KM_true.append(rmse_true_aux[0])\n",
    "    times_NcoK_KM.append(time_aux[0])\n",
    "\n",
    "    rmses_NcoK_NN.append(rmse_aux[1])\n",
    "    rmses_NcoK_NN_true.append(rmse_true_aux[1])\n",
    "    times_NcoK_NN.append(time_aux[1])\n",
    "    \n",
    "    print(f'{_} listo :)')"
   ]
  },
  {
   "cell_type": "markdown",
   "metadata": {},
   "source": [
    "### Resultados RMSE vs CoK"
   ]
  },
  {
   "cell_type": "code",
   "execution_count": null,
   "metadata": {},
   "outputs": [],
   "source": [
    "np.hstack([rmses_NcoK_KM, rmses_NcoK_NN, rmses_coKNN])"
   ]
  },
  {
   "cell_type": "code",
   "execution_count": null,
   "metadata": {},
   "outputs": [],
   "source": [
    "plt.figure(figsize=(15,6))\n",
    "\n",
    "plt.boxplot(np.hstack([rmses_NcoK_KM, rmses_NcoK_NN, rmses_coKNN]))\n",
    "\n",
    "plt.xticks(range(1, 1 + 2*len(ns_clusters) + len(Ns)),\n",
    "           [f'NcoK KM\\n{n_clusters=}\\nN={n//n_clusters}' for n_clusters in ns_clusters] + \n",
    "           [f'NcoK NN\\n{n_clusters=}\\nN={n//n_clusters}' for n_clusters in ns_clusters] + \n",
    "           [f'coKNN\\n{N=}\\n{N/n:.2%}' for N in Ns])\n",
    "\n",
    "plt.ylabel('RMSE(CoKriging, Model)')\n",
    "plt.title(f'{n=:_.0f}, {d=}, {nu_1=}, {nu_2=}, {theta_1=}, {theta_2=}');"
   ]
  },
  {
   "cell_type": "markdown",
   "metadata": {},
   "source": [
    "### Resultados RMSE vs Y_true"
   ]
  },
  {
   "cell_type": "code",
   "execution_count": null,
   "metadata": {},
   "outputs": [],
   "source": [
    "np.hstack([rmses_NcoK_KM_true, rmses_NcoK_NN_true, rmses_coKNN_true])"
   ]
  },
  {
   "cell_type": "code",
   "execution_count": null,
   "metadata": {},
   "outputs": [],
   "source": [
    "plt.figure(figsize=(15,6))\n",
    "\n",
    "plt.boxplot(np.hstack([rmses_NcoK_KM_true, rmses_NcoK_NN_true, rmses_coKNN_true]))\n",
    "\n",
    "plt.xticks(range(1, 1 + 2*len(ns_clusters) + len(Ns)),\n",
    "           [f'NcoK KM\\n{n_clusters=}\\nN={n//n_clusters}' for n_clusters in ns_clusters] + \n",
    "           [f'NcoK NN\\n{n_clusters=}\\nN={n//n_clusters}' for n_clusters in ns_clusters] + \n",
    "           [f'coKNN\\n{N=}\\n{N/n:.2%}' for N in Ns])\n",
    "\n",
    "plt.ylabel('RMSE(Y_true, Model)')\n",
    "plt.title(f'{n=:_.0f}, {d=}, {nu_1=}, {nu_2=}, {theta_1=}, {theta_2=}');"
   ]
  },
  {
   "cell_type": "markdown",
   "metadata": {},
   "source": [
    "### Resultados Times"
   ]
  },
  {
   "cell_type": "code",
   "execution_count": null,
   "metadata": {},
   "outputs": [],
   "source": [
    "np.hstack([times_NcoK_KM,times_NcoK_NN,times_coKNN])"
   ]
  },
  {
   "cell_type": "code",
   "execution_count": null,
   "metadata": {},
   "outputs": [],
   "source": [
    "plt.figure(figsize=(15,6))\n",
    "\n",
    "plt.boxplot(np.hstack([times_NcoK_KM,times_NcoK_NN,times_coKNN]))\n",
    "\n",
    "plt.xticks(range(1, 1 + 2*len(ns_clusters) + len(Ns)),\n",
    "           [f'NcoK KM\\n{n_clusters=}\\nN={n//n_clusters}' for n_clusters in ns_clusters] + \n",
    "           [f'NcoK NN\\n{n_clusters=}\\nN={n//n_clusters}' for n_clusters in ns_clusters] + \n",
    "           [f'coKNN\\n{N=}\\n{N/n:.2%}' for N in Ns])\n",
    "\n",
    "plt.ylabel('Time [s]')\n",
    "plt.title(f'{n=:_.0f}, {d=}, {nu_1=}, {nu_2=}, {theta_1=}, {theta_2=}');"
   ]
  },
  {
   "cell_type": "markdown",
   "metadata": {},
   "source": [
    "## $\\nu_{1} = 5/2, \\nu_{2} = 5/2$"
   ]
  },
  {
   "cell_type": "code",
   "execution_count": null,
   "metadata": {},
   "outputs": [],
   "source": [
    "nu_1 = 5/2\n",
    "nu_2 = 5/2"
   ]
  },
  {
   "cell_type": "code",
   "execution_count": null,
   "metadata": {},
   "outputs": [],
   "source": [
    "nu_12 = ( nu_1 + nu_2 ) / 2\n",
    "theta_12 = min(theta_1, theta_2)\n",
    "rho_12 = rho_matern(d, nu_1, nu_2, nu_12, theta_1, theta_2, theta_12)\n",
    "rho_12"
   ]
  },
  {
   "cell_type": "code",
   "execution_count": null,
   "metadata": {},
   "outputs": [],
   "source": [
    "Ns = [2, 10, 100]\n",
    "ns_clusters = [\n",
    "    500, # 2\n",
    "    100, # 10\n",
    "    10,  # 100\n",
    "]\n",
    "\n",
    "rmses_NcoK_KM = []\n",
    "rmses_NcoK_NN = []\n",
    "rmses_coKNN = []\n",
    "\n",
    "rmses_NcoK_KM_true = []\n",
    "rmses_NcoK_NN_true = []\n",
    "rmses_coKNN_true = []\n",
    "\n",
    "times_NcoK_KM = []\n",
    "times_NcoK_NN = []\n",
    "times_coKNN = []\n",
    "\n",
    "num_replications = 50"
   ]
  },
  {
   "cell_type": "code",
   "execution_count": null,
   "metadata": {},
   "outputs": [],
   "source": [
    "for _ in range(num_replications):\n",
    "    X_1 = gen_observation_points(d, n + n_test, sup)\n",
    "    X_2 = gen_observation_points(d, n, sup)\n",
    "    sigma = K(X_1, X_2, matern_model(theta_1, nu_1), matern_model(theta_2, nu_2), matern_model(theta_12, nu_12), rho_12)\n",
    "\n",
    "    Y = np.linalg.cholesky(sigma) @ np.random.normal(0, 1, (2*n + n_test))\n",
    "    Y_1, Y_2 = Y[:(n+n_test)], Y[(n+n_test):]\n",
    " \n",
    "    X_test, Y_test = X_1[:n_test], Y_1[:n_test]\n",
    "    X_1, Y_1 = X_1[n_test:], Y_1[n_test:]\n",
    "\n",
    "    sigma = sigma[n_test:, :][:, n_test:]\n",
    "\n",
    "# CO KRIGING\n",
    "    Y_coK = co_kriging(X_test, X_1, X_2, Y_1, Y_2, matern_model(theta_1, nu_1), matern_model(theta_12, nu_12), rho_12, sigma)\n",
    "\n",
    "# CO KRIGING NN\n",
    "    rmse_aux, rmse_true_aux, time_aux = [], [], []\n",
    "    for N in Ns:    \n",
    "        start_time = time.time()\n",
    "        coKNN = coKrigingNN(X_1, X_2, Y_1, Y_2, N, matern_model, theta_1, theta_2, \n",
    "                            theta_12, nu_1, nu_2, nu_12, rho_12)\n",
    "        Y_pred = coKNN.predict(X_test)\n",
    "        end_time = time.time()\n",
    "\n",
    "        time_aux.append(end_time - start_time)\n",
    "        rmse_aux.append(root_mean_squared_error(Y_coK, Y_pred))\n",
    "        rmse_true_aux.append(root_mean_squared_error(Y_test, Y_pred))\n",
    "    rmses_coKNN.append(rmse_aux)\n",
    "    rmses_coKNN_true.append(rmse_true_aux)\n",
    "    times_coKNN.append(time_aux)\n",
    "\n",
    "# NESTED CO KRIGING\n",
    "    rmse_aux, rmse_true_aux, time_aux = [[], []], [[], []], [[], []]\n",
    "    for n_clusters in ns_clusters:\n",
    "    # NcoK KM\n",
    "        start_time = time.time()\n",
    "        NcoK = NestedCoKriging(X_1, X_2, Y_1, Y_2, matern_model, \n",
    "                                theta_1, theta_2, theta_12, nu_1,\n",
    "                                nu_2, nu_12, rho_12)\n",
    "        A_1 = gen_A(X_1, n_clusters)\n",
    "        A_2 = gen_A(X_2, n_clusters)\n",
    "        Y_pred = NcoK.predict(X_test, A_1, A_2)\n",
    "        end_time = time.time()\n",
    "        \n",
    "        time_aux[0].append(end_time-start_time)\n",
    "        rmse_aux[0].append(root_mean_squared_error(Y_coK, Y_pred))\n",
    "        rmse_true_aux[0].append(root_mean_squared_error(Y_test, Y_pred))\n",
    "\n",
    "    # NcoK NN\n",
    "        start_time = time.time()\n",
    "        Y_pred = NcoK.predict(X_test, NN=True, n_clusters=n_clusters)\n",
    "        end_time = time.time()\n",
    "\n",
    "        time_aux[1].append(end_time-start_time)\n",
    "        rmse_aux[1].append(root_mean_squared_error(Y_coK, Y_pred))\n",
    "        rmse_true_aux[1].append(root_mean_squared_error(Y_test, Y_pred))\n",
    "\n",
    "    rmses_NcoK_KM.append(rmse_aux[0])\n",
    "    rmses_NcoK_KM_true.append(rmse_true_aux[0])\n",
    "    times_NcoK_KM.append(time_aux[0])\n",
    "\n",
    "    rmses_NcoK_NN.append(rmse_aux[1])\n",
    "    rmses_NcoK_NN_true.append(rmse_true_aux[1])\n",
    "    times_NcoK_NN.append(time_aux[1])\n",
    "    \n",
    "    print(f'{_} listo :)')"
   ]
  },
  {
   "cell_type": "markdown",
   "metadata": {},
   "source": [
    "### Resultados RMSE vs CoK"
   ]
  },
  {
   "cell_type": "code",
   "execution_count": null,
   "metadata": {},
   "outputs": [],
   "source": [
    "np.hstack([rmses_NcoK_KM, rmses_NcoK_NN, rmses_coKNN])"
   ]
  },
  {
   "cell_type": "code",
   "execution_count": null,
   "metadata": {},
   "outputs": [],
   "source": [
    "plt.figure(figsize=(15,6))\n",
    "\n",
    "plt.boxplot(np.hstack([rmses_NcoK_KM, rmses_NcoK_NN, rmses_coKNN]))\n",
    "\n",
    "plt.xticks(range(1, 1 + 2*len(ns_clusters) + len(Ns)),\n",
    "           [f'NcoK KM\\n{n_clusters=}\\nN={n//n_clusters}' for n_clusters in ns_clusters] + \n",
    "           [f'NcoK NN\\n{n_clusters=}\\nN={n//n_clusters}' for n_clusters in ns_clusters] + \n",
    "           [f'coKNN\\n{N=}\\n{N/n:.2%}' for N in Ns])\n",
    "\n",
    "plt.ylabel('RMSE(CoKriging, Model)')\n",
    "plt.title(f'{n=:_.0f}, {d=}, {nu_1=}, {nu_2=}, {theta_1=}, {theta_2=}');"
   ]
  },
  {
   "cell_type": "markdown",
   "metadata": {},
   "source": [
    "### Resultados RMSE vs Y_true"
   ]
  },
  {
   "cell_type": "code",
   "execution_count": null,
   "metadata": {},
   "outputs": [],
   "source": [
    "np.hstack([rmses_NcoK_KM_true, rmses_NcoK_NN_true, rmses_coKNN_true])"
   ]
  },
  {
   "cell_type": "code",
   "execution_count": null,
   "metadata": {},
   "outputs": [],
   "source": [
    "plt.figure(figsize=(15,6))\n",
    "\n",
    "plt.boxplot(np.hstack([rmses_NcoK_KM_true, rmses_NcoK_NN_true, rmses_coKNN_true]))\n",
    "\n",
    "plt.xticks(range(1, 1 + 2*len(ns_clusters) + len(Ns)),\n",
    "           [f'NcoK KM\\n{n_clusters=}\\nN={n//n_clusters}' for n_clusters in ns_clusters] + \n",
    "           [f'NcoK NN\\n{n_clusters=}\\nN={n//n_clusters}' for n_clusters in ns_clusters] + \n",
    "           [f'coKNN\\n{N=}\\n{N/n:.2%}' for N in Ns])\n",
    "\n",
    "plt.ylabel('RMSE(Y_true, Model)')\n",
    "plt.title(f'{n=:_.0f}, {d=}, {nu_1=}, {nu_2=}, {theta_1=}, {theta_2=}');"
   ]
  },
  {
   "cell_type": "markdown",
   "metadata": {},
   "source": [
    "### Resultados Times"
   ]
  },
  {
   "cell_type": "code",
   "execution_count": null,
   "metadata": {},
   "outputs": [],
   "source": [
    "np.hstack([times_NcoK_KM,times_NcoK_NN,times_coKNN])"
   ]
  },
  {
   "cell_type": "code",
   "execution_count": null,
   "metadata": {},
   "outputs": [],
   "source": [
    "plt.figure(figsize=(15,6))\n",
    "\n",
    "plt.boxplot(np.hstack([times_NcoK_KM,times_NcoK_NN,times_coKNN]))\n",
    "\n",
    "plt.xticks(range(1, 1 + 2*len(ns_clusters) + len(Ns)),\n",
    "           [f'NcoK KM\\n{n_clusters=}\\nN={n//n_clusters}' for n_clusters in ns_clusters] + \n",
    "           [f'NcoK NN\\n{n_clusters=}\\nN={n//n_clusters}' for n_clusters in ns_clusters] + \n",
    "           [f'coKNN\\n{N=}\\n{N/n:.2%}' for N in Ns])\n",
    "\n",
    "plt.ylabel('Time [s]')\n",
    "plt.title(f'{n=:_.0f}, {d=}, {nu_1=}, {nu_2=}, {theta_1=}, {theta_2=}');"
   ]
  }
 ],
 "metadata": {
  "kernelspec": {
   "display_name": "Python 3",
   "language": "python",
   "name": "python3"
  },
  "language_info": {
   "codemirror_mode": {
    "name": "ipython",
    "version": 3
   },
   "file_extension": ".py",
   "mimetype": "text/x-python",
   "name": "python",
   "nbconvert_exporter": "python",
   "pygments_lexer": "ipython3",
   "version": "3.12.3"
  }
 },
 "nbformat": 4,
 "nbformat_minor": 2
}
